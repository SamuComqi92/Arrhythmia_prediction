{
 "cells": [
  {
   "cell_type": "markdown",
   "id": "8dcdb67e-2d44-4cd7-8789-49390ce11c22",
   "metadata": {},
   "source": [
    "# **NORMAL/ABNORMAL ARRHYTHMIA PREDICTION NOTEBOOK**\n",
    "\n",
    "## **Summary**\n",
    "\n",
    "1. Importing libraries and data\n",
    "2. Data cleaning and preparation\n",
    "3. Data transformation function\n",
    "4. Training: first models\n",
    "5. Training: hyperparameters tuning\n",
    "6. Model finalization\n",
    "7. Test on unseen data"
   ]
  },
  {
   "cell_type": "markdown",
   "id": "a3a93a98-6174-4bb8-a3b8-e8d84d9d8770",
   "metadata": {},
   "source": [
    ".\n",
    "\n",
    ".\n",
    "## **1. Importing libraries and data**"
   ]
  },
  {
   "cell_type": "code",
   "execution_count": 1,
   "id": "b3065241-4f79-4154-a0b6-dd240add8b16",
   "metadata": {},
   "outputs": [],
   "source": [
    "#Import libraries\n",
    "import numpy as np\n",
    "import pandas as pd\n",
    "import matplotlib.pyplot as plt\n",
    "import seaborn as sn\n",
    "from scipy.stats import skew\n",
    "from sklearn.metrics import confusion_matrix, precision_score, recall_score, f1_score, roc_auc_score, roc_curve\n",
    "from sklearn.preprocessing import MinMaxScaler\n",
    "from sklearn.model_selection import train_test_split, cross_val_score, GridSearchCV, StratifiedKFold, StratifiedShuffleSplit, KFold\n",
    "from sklearn.feature_selection import f_classif\n",
    "from sklearn.linear_model import LogisticRegression\n",
    "from sklearn.tree import DecisionTreeClassifier\n",
    "from sklearn.ensemble import RandomForestClassifier, AdaBoostClassifier, ExtraTreesClassifier, VotingClassifier\n",
    "from sklearn.naive_bayes import GaussianNB\n",
    "from sklearn.neighbors import KNeighborsClassifier\n",
    "from sklearn.decomposition import PCA\n",
    "import xgboost as xgb\n",
    "from sklearn import svm\n",
    "\n",
    "import warnings\n",
    "warnings.simplefilter(\"ignore\")"
   ]
  },
  {
   "cell_type": "code",
   "execution_count": 2,
   "id": "dc51fdc4-393f-4e88-b8c0-2acaa3f6ba48",
   "metadata": {},
   "outputs": [
    {
     "data": {
      "text/html": [
       "<div>\n",
       "<style scoped>\n",
       "    .dataframe tbody tr th:only-of-type {\n",
       "        vertical-align: middle;\n",
       "    }\n",
       "\n",
       "    .dataframe tbody tr th {\n",
       "        vertical-align: top;\n",
       "    }\n",
       "\n",
       "    .dataframe thead th {\n",
       "        text-align: right;\n",
       "    }\n",
       "</style>\n",
       "<table border=\"1\" class=\"dataframe\">\n",
       "  <thead>\n",
       "    <tr style=\"text-align: right;\">\n",
       "      <th></th>\n",
       "      <th>Feature1</th>\n",
       "      <th>Feature2</th>\n",
       "      <th>Feature3</th>\n",
       "      <th>Feature4</th>\n",
       "      <th>Feature5</th>\n",
       "      <th>Feature6</th>\n",
       "      <th>Feature7</th>\n",
       "      <th>Feature8</th>\n",
       "      <th>Feature9</th>\n",
       "      <th>Feature10</th>\n",
       "      <th>...</th>\n",
       "      <th>Feature271</th>\n",
       "      <th>Feature272</th>\n",
       "      <th>Feature273</th>\n",
       "      <th>Feature274</th>\n",
       "      <th>Feature275</th>\n",
       "      <th>Feature276</th>\n",
       "      <th>Feature277</th>\n",
       "      <th>Feature278</th>\n",
       "      <th>Feature279</th>\n",
       "      <th>Class</th>\n",
       "    </tr>\n",
       "  </thead>\n",
       "  <tbody>\n",
       "    <tr>\n",
       "      <th>0</th>\n",
       "      <td>75</td>\n",
       "      <td>0</td>\n",
       "      <td>190</td>\n",
       "      <td>80</td>\n",
       "      <td>91</td>\n",
       "      <td>193</td>\n",
       "      <td>371</td>\n",
       "      <td>174</td>\n",
       "      <td>121</td>\n",
       "      <td>-16</td>\n",
       "      <td>...</td>\n",
       "      <td>0.0</td>\n",
       "      <td>9.0</td>\n",
       "      <td>-0.9</td>\n",
       "      <td>0.0</td>\n",
       "      <td>0</td>\n",
       "      <td>0.9</td>\n",
       "      <td>2.9</td>\n",
       "      <td>23.3</td>\n",
       "      <td>49.4</td>\n",
       "      <td>8</td>\n",
       "    </tr>\n",
       "    <tr>\n",
       "      <th>1</th>\n",
       "      <td>56</td>\n",
       "      <td>1</td>\n",
       "      <td>165</td>\n",
       "      <td>64</td>\n",
       "      <td>81</td>\n",
       "      <td>174</td>\n",
       "      <td>401</td>\n",
       "      <td>149</td>\n",
       "      <td>39</td>\n",
       "      <td>25</td>\n",
       "      <td>...</td>\n",
       "      <td>0.0</td>\n",
       "      <td>8.5</td>\n",
       "      <td>0.0</td>\n",
       "      <td>0.0</td>\n",
       "      <td>0</td>\n",
       "      <td>0.2</td>\n",
       "      <td>2.1</td>\n",
       "      <td>20.4</td>\n",
       "      <td>38.8</td>\n",
       "      <td>6</td>\n",
       "    </tr>\n",
       "    <tr>\n",
       "      <th>2</th>\n",
       "      <td>54</td>\n",
       "      <td>0</td>\n",
       "      <td>172</td>\n",
       "      <td>95</td>\n",
       "      <td>138</td>\n",
       "      <td>163</td>\n",
       "      <td>386</td>\n",
       "      <td>185</td>\n",
       "      <td>102</td>\n",
       "      <td>96</td>\n",
       "      <td>...</td>\n",
       "      <td>0.0</td>\n",
       "      <td>9.5</td>\n",
       "      <td>-2.4</td>\n",
       "      <td>0.0</td>\n",
       "      <td>0</td>\n",
       "      <td>0.3</td>\n",
       "      <td>3.4</td>\n",
       "      <td>12.3</td>\n",
       "      <td>49.0</td>\n",
       "      <td>10</td>\n",
       "    </tr>\n",
       "    <tr>\n",
       "      <th>3</th>\n",
       "      <td>55</td>\n",
       "      <td>0</td>\n",
       "      <td>175</td>\n",
       "      <td>94</td>\n",
       "      <td>100</td>\n",
       "      <td>202</td>\n",
       "      <td>380</td>\n",
       "      <td>179</td>\n",
       "      <td>143</td>\n",
       "      <td>28</td>\n",
       "      <td>...</td>\n",
       "      <td>0.0</td>\n",
       "      <td>12.2</td>\n",
       "      <td>-2.2</td>\n",
       "      <td>0.0</td>\n",
       "      <td>0</td>\n",
       "      <td>0.4</td>\n",
       "      <td>2.6</td>\n",
       "      <td>34.6</td>\n",
       "      <td>61.6</td>\n",
       "      <td>1</td>\n",
       "    </tr>\n",
       "    <tr>\n",
       "      <th>4</th>\n",
       "      <td>75</td>\n",
       "      <td>0</td>\n",
       "      <td>190</td>\n",
       "      <td>80</td>\n",
       "      <td>88</td>\n",
       "      <td>181</td>\n",
       "      <td>360</td>\n",
       "      <td>177</td>\n",
       "      <td>103</td>\n",
       "      <td>-16</td>\n",
       "      <td>...</td>\n",
       "      <td>0.0</td>\n",
       "      <td>13.1</td>\n",
       "      <td>-3.6</td>\n",
       "      <td>0.0</td>\n",
       "      <td>0</td>\n",
       "      <td>-0.1</td>\n",
       "      <td>3.9</td>\n",
       "      <td>25.4</td>\n",
       "      <td>62.8</td>\n",
       "      <td>7</td>\n",
       "    </tr>\n",
       "    <tr>\n",
       "      <th>...</th>\n",
       "      <td>...</td>\n",
       "      <td>...</td>\n",
       "      <td>...</td>\n",
       "      <td>...</td>\n",
       "      <td>...</td>\n",
       "      <td>...</td>\n",
       "      <td>...</td>\n",
       "      <td>...</td>\n",
       "      <td>...</td>\n",
       "      <td>...</td>\n",
       "      <td>...</td>\n",
       "      <td>...</td>\n",
       "      <td>...</td>\n",
       "      <td>...</td>\n",
       "      <td>...</td>\n",
       "      <td>...</td>\n",
       "      <td>...</td>\n",
       "      <td>...</td>\n",
       "      <td>...</td>\n",
       "      <td>...</td>\n",
       "      <td>...</td>\n",
       "    </tr>\n",
       "    <tr>\n",
       "      <th>447</th>\n",
       "      <td>53</td>\n",
       "      <td>1</td>\n",
       "      <td>160</td>\n",
       "      <td>70</td>\n",
       "      <td>80</td>\n",
       "      <td>199</td>\n",
       "      <td>382</td>\n",
       "      <td>154</td>\n",
       "      <td>117</td>\n",
       "      <td>-37</td>\n",
       "      <td>...</td>\n",
       "      <td>0.0</td>\n",
       "      <td>4.3</td>\n",
       "      <td>-5.0</td>\n",
       "      <td>0.0</td>\n",
       "      <td>0</td>\n",
       "      <td>0.7</td>\n",
       "      <td>0.6</td>\n",
       "      <td>-4.4</td>\n",
       "      <td>-0.5</td>\n",
       "      <td>1</td>\n",
       "    </tr>\n",
       "    <tr>\n",
       "      <th>448</th>\n",
       "      <td>37</td>\n",
       "      <td>0</td>\n",
       "      <td>190</td>\n",
       "      <td>85</td>\n",
       "      <td>100</td>\n",
       "      <td>137</td>\n",
       "      <td>361</td>\n",
       "      <td>201</td>\n",
       "      <td>73</td>\n",
       "      <td>86</td>\n",
       "      <td>...</td>\n",
       "      <td>0.0</td>\n",
       "      <td>15.6</td>\n",
       "      <td>-1.6</td>\n",
       "      <td>0.0</td>\n",
       "      <td>0</td>\n",
       "      <td>0.4</td>\n",
       "      <td>2.4</td>\n",
       "      <td>38.0</td>\n",
       "      <td>62.4</td>\n",
       "      <td>10</td>\n",
       "    </tr>\n",
       "    <tr>\n",
       "      <th>449</th>\n",
       "      <td>36</td>\n",
       "      <td>0</td>\n",
       "      <td>166</td>\n",
       "      <td>68</td>\n",
       "      <td>108</td>\n",
       "      <td>176</td>\n",
       "      <td>365</td>\n",
       "      <td>194</td>\n",
       "      <td>116</td>\n",
       "      <td>-85</td>\n",
       "      <td>...</td>\n",
       "      <td>0.0</td>\n",
       "      <td>16.3</td>\n",
       "      <td>-28.6</td>\n",
       "      <td>0.0</td>\n",
       "      <td>0</td>\n",
       "      <td>1.5</td>\n",
       "      <td>1.0</td>\n",
       "      <td>-44.2</td>\n",
       "      <td>-33.2</td>\n",
       "      <td>2</td>\n",
       "    </tr>\n",
       "    <tr>\n",
       "      <th>450</th>\n",
       "      <td>32</td>\n",
       "      <td>1</td>\n",
       "      <td>155</td>\n",
       "      <td>55</td>\n",
       "      <td>93</td>\n",
       "      <td>106</td>\n",
       "      <td>386</td>\n",
       "      <td>218</td>\n",
       "      <td>63</td>\n",
       "      <td>54</td>\n",
       "      <td>...</td>\n",
       "      <td>-0.4</td>\n",
       "      <td>12.0</td>\n",
       "      <td>-0.7</td>\n",
       "      <td>0.0</td>\n",
       "      <td>0</td>\n",
       "      <td>0.5</td>\n",
       "      <td>2.4</td>\n",
       "      <td>25.0</td>\n",
       "      <td>46.6</td>\n",
       "      <td>1</td>\n",
       "    </tr>\n",
       "    <tr>\n",
       "      <th>451</th>\n",
       "      <td>78</td>\n",
       "      <td>1</td>\n",
       "      <td>160</td>\n",
       "      <td>70</td>\n",
       "      <td>79</td>\n",
       "      <td>127</td>\n",
       "      <td>364</td>\n",
       "      <td>138</td>\n",
       "      <td>78</td>\n",
       "      <td>28</td>\n",
       "      <td>...</td>\n",
       "      <td>0.0</td>\n",
       "      <td>10.4</td>\n",
       "      <td>-1.8</td>\n",
       "      <td>0.0</td>\n",
       "      <td>0</td>\n",
       "      <td>0.5</td>\n",
       "      <td>1.6</td>\n",
       "      <td>21.3</td>\n",
       "      <td>32.8</td>\n",
       "      <td>1</td>\n",
       "    </tr>\n",
       "  </tbody>\n",
       "</table>\n",
       "<p>452 rows × 280 columns</p>\n",
       "</div>"
      ],
      "text/plain": [
       "     Feature1  Feature2  Feature3  Feature4  Feature5  Feature6  Feature7  \\\n",
       "0          75         0       190        80        91       193       371   \n",
       "1          56         1       165        64        81       174       401   \n",
       "2          54         0       172        95       138       163       386   \n",
       "3          55         0       175        94       100       202       380   \n",
       "4          75         0       190        80        88       181       360   \n",
       "..        ...       ...       ...       ...       ...       ...       ...   \n",
       "447        53         1       160        70        80       199       382   \n",
       "448        37         0       190        85       100       137       361   \n",
       "449        36         0       166        68       108       176       365   \n",
       "450        32         1       155        55        93       106       386   \n",
       "451        78         1       160        70        79       127       364   \n",
       "\n",
       "     Feature8  Feature9  Feature10  ...  Feature271  Feature272  Feature273  \\\n",
       "0         174       121        -16  ...         0.0         9.0        -0.9   \n",
       "1         149        39         25  ...         0.0         8.5         0.0   \n",
       "2         185       102         96  ...         0.0         9.5        -2.4   \n",
       "3         179       143         28  ...         0.0        12.2        -2.2   \n",
       "4         177       103        -16  ...         0.0        13.1        -3.6   \n",
       "..        ...       ...        ...  ...         ...         ...         ...   \n",
       "447       154       117        -37  ...         0.0         4.3        -5.0   \n",
       "448       201        73         86  ...         0.0        15.6        -1.6   \n",
       "449       194       116        -85  ...         0.0        16.3       -28.6   \n",
       "450       218        63         54  ...        -0.4        12.0        -0.7   \n",
       "451       138        78         28  ...         0.0        10.4        -1.8   \n",
       "\n",
       "     Feature274  Feature275  Feature276  Feature277  Feature278  Feature279  \\\n",
       "0           0.0           0         0.9         2.9        23.3        49.4   \n",
       "1           0.0           0         0.2         2.1        20.4        38.8   \n",
       "2           0.0           0         0.3         3.4        12.3        49.0   \n",
       "3           0.0           0         0.4         2.6        34.6        61.6   \n",
       "4           0.0           0        -0.1         3.9        25.4        62.8   \n",
       "..          ...         ...         ...         ...         ...         ...   \n",
       "447         0.0           0         0.7         0.6        -4.4        -0.5   \n",
       "448         0.0           0         0.4         2.4        38.0        62.4   \n",
       "449         0.0           0         1.5         1.0       -44.2       -33.2   \n",
       "450         0.0           0         0.5         2.4        25.0        46.6   \n",
       "451         0.0           0         0.5         1.6        21.3        32.8   \n",
       "\n",
       "     Class  \n",
       "0        8  \n",
       "1        6  \n",
       "2       10  \n",
       "3        1  \n",
       "4        7  \n",
       "..     ...  \n",
       "447      1  \n",
       "448     10  \n",
       "449      2  \n",
       "450      1  \n",
       "451      1  \n",
       "\n",
       "[452 rows x 280 columns]"
      ]
     },
     "execution_count": 2,
     "metadata": {},
     "output_type": "execute_result"
    }
   ],
   "source": [
    "#Import data\n",
    "Data = pd.read_csv(\"Data.csv\")\n",
    "Data"
   ]
  },
  {
   "cell_type": "code",
   "execution_count": 3,
   "id": "b737e0eb-ea0f-40ec-8e0e-5168a3d7503a",
   "metadata": {},
   "outputs": [
    {
     "name": "stdout",
     "output_type": "stream",
     "text": [
      "<class 'pandas.core.frame.DataFrame'>\n",
      "RangeIndex: 452 entries, 0 to 451\n",
      "Columns: 280 entries, Feature1 to Class\n",
      "dtypes: float64(121), int64(159)\n",
      "memory usage: 988.9 KB\n"
     ]
    }
   ],
   "source": [
    "#Data information\n",
    "Data.info()"
   ]
  },
  {
   "cell_type": "markdown",
   "id": "a961e3c5-62d3-47c2-ab77-22da230c60fc",
   "metadata": {},
   "source": [
    ".\n",
    "\n",
    "Before moving on, let's create a Traning and a test set: this later will be used at the end of the notebook as *unseen data*.\n",
    "\n",
    "The Test set will contain 3% of the data (~15 samples)."
   ]
  },
  {
   "cell_type": "code",
   "execution_count": 4,
   "id": "c11638b1-0050-4748-95e2-cefe826ac6b3",
   "metadata": {},
   "outputs": [
    {
     "data": {
      "text/html": [
       "<div>\n",
       "<style scoped>\n",
       "    .dataframe tbody tr th:only-of-type {\n",
       "        vertical-align: middle;\n",
       "    }\n",
       "\n",
       "    .dataframe tbody tr th {\n",
       "        vertical-align: top;\n",
       "    }\n",
       "\n",
       "    .dataframe thead th {\n",
       "        text-align: right;\n",
       "    }\n",
       "</style>\n",
       "<table border=\"1\" class=\"dataframe\">\n",
       "  <thead>\n",
       "    <tr style=\"text-align: right;\">\n",
       "      <th></th>\n",
       "      <th>Feature1</th>\n",
       "      <th>Feature2</th>\n",
       "      <th>Feature3</th>\n",
       "      <th>Feature4</th>\n",
       "      <th>Feature5</th>\n",
       "      <th>Feature6</th>\n",
       "      <th>Feature7</th>\n",
       "      <th>Feature8</th>\n",
       "      <th>Feature9</th>\n",
       "      <th>Feature10</th>\n",
       "      <th>...</th>\n",
       "      <th>Feature270</th>\n",
       "      <th>Feature271</th>\n",
       "      <th>Feature272</th>\n",
       "      <th>Feature273</th>\n",
       "      <th>Feature274</th>\n",
       "      <th>Feature275</th>\n",
       "      <th>Feature276</th>\n",
       "      <th>Feature277</th>\n",
       "      <th>Feature278</th>\n",
       "      <th>Feature279</th>\n",
       "    </tr>\n",
       "  </thead>\n",
       "  <tbody>\n",
       "    <tr>\n",
       "      <th>351</th>\n",
       "      <td>53</td>\n",
       "      <td>1</td>\n",
       "      <td>156</td>\n",
       "      <td>65</td>\n",
       "      <td>73</td>\n",
       "      <td>160</td>\n",
       "      <td>359</td>\n",
       "      <td>248</td>\n",
       "      <td>37</td>\n",
       "      <td>33</td>\n",
       "      <td>...</td>\n",
       "      <td>-0.4</td>\n",
       "      <td>0.0</td>\n",
       "      <td>8.1</td>\n",
       "      <td>0.0</td>\n",
       "      <td>0.0</td>\n",
       "      <td>0</td>\n",
       "      <td>0.1</td>\n",
       "      <td>-0.8</td>\n",
       "      <td>22.6</td>\n",
       "      <td>10.8</td>\n",
       "    </tr>\n",
       "    <tr>\n",
       "      <th>21</th>\n",
       "      <td>45</td>\n",
       "      <td>0</td>\n",
       "      <td>169</td>\n",
       "      <td>67</td>\n",
       "      <td>90</td>\n",
       "      <td>122</td>\n",
       "      <td>336</td>\n",
       "      <td>177</td>\n",
       "      <td>78</td>\n",
       "      <td>81</td>\n",
       "      <td>...</td>\n",
       "      <td>-0.4</td>\n",
       "      <td>-0.6</td>\n",
       "      <td>8.3</td>\n",
       "      <td>-1.8</td>\n",
       "      <td>0.0</td>\n",
       "      <td>0</td>\n",
       "      <td>0.8</td>\n",
       "      <td>1.1</td>\n",
       "      <td>11.7</td>\n",
       "      <td>19.6</td>\n",
       "    </tr>\n",
       "    <tr>\n",
       "      <th>118</th>\n",
       "      <td>24</td>\n",
       "      <td>1</td>\n",
       "      <td>162</td>\n",
       "      <td>75</td>\n",
       "      <td>88</td>\n",
       "      <td>150</td>\n",
       "      <td>353</td>\n",
       "      <td>156</td>\n",
       "      <td>96</td>\n",
       "      <td>-21</td>\n",
       "      <td>...</td>\n",
       "      <td>-0.2</td>\n",
       "      <td>0.0</td>\n",
       "      <td>5.3</td>\n",
       "      <td>-1.6</td>\n",
       "      <td>0.0</td>\n",
       "      <td>0</td>\n",
       "      <td>0.7</td>\n",
       "      <td>1.2</td>\n",
       "      <td>7.4</td>\n",
       "      <td>15.5</td>\n",
       "    </tr>\n",
       "    <tr>\n",
       "      <th>1</th>\n",
       "      <td>56</td>\n",
       "      <td>1</td>\n",
       "      <td>165</td>\n",
       "      <td>64</td>\n",
       "      <td>81</td>\n",
       "      <td>174</td>\n",
       "      <td>401</td>\n",
       "      <td>149</td>\n",
       "      <td>39</td>\n",
       "      <td>25</td>\n",
       "      <td>...</td>\n",
       "      <td>-0.5</td>\n",
       "      <td>0.0</td>\n",
       "      <td>8.5</td>\n",
       "      <td>0.0</td>\n",
       "      <td>0.0</td>\n",
       "      <td>0</td>\n",
       "      <td>0.2</td>\n",
       "      <td>2.1</td>\n",
       "      <td>20.4</td>\n",
       "      <td>38.8</td>\n",
       "    </tr>\n",
       "    <tr>\n",
       "      <th>10</th>\n",
       "      <td>62</td>\n",
       "      <td>0</td>\n",
       "      <td>170</td>\n",
       "      <td>72</td>\n",
       "      <td>102</td>\n",
       "      <td>135</td>\n",
       "      <td>401</td>\n",
       "      <td>156</td>\n",
       "      <td>83</td>\n",
       "      <td>72</td>\n",
       "      <td>...</td>\n",
       "      <td>-0.4</td>\n",
       "      <td>-0.5</td>\n",
       "      <td>9.0</td>\n",
       "      <td>-2.0</td>\n",
       "      <td>0.0</td>\n",
       "      <td>0</td>\n",
       "      <td>0.8</td>\n",
       "      <td>0.9</td>\n",
       "      <td>12.3</td>\n",
       "      <td>19.3</td>\n",
       "    </tr>\n",
       "  </tbody>\n",
       "</table>\n",
       "<p>5 rows × 279 columns</p>\n",
       "</div>"
      ],
      "text/plain": [
       "     Feature1  Feature2  Feature3  Feature4  Feature5  Feature6  Feature7  \\\n",
       "351        53         1       156        65        73       160       359   \n",
       "21         45         0       169        67        90       122       336   \n",
       "118        24         1       162        75        88       150       353   \n",
       "1          56         1       165        64        81       174       401   \n",
       "10         62         0       170        72       102       135       401   \n",
       "\n",
       "     Feature8  Feature9  Feature10  ...  Feature270  Feature271  Feature272  \\\n",
       "351       248        37         33  ...        -0.4         0.0         8.1   \n",
       "21        177        78         81  ...        -0.4        -0.6         8.3   \n",
       "118       156        96        -21  ...        -0.2         0.0         5.3   \n",
       "1         149        39         25  ...        -0.5         0.0         8.5   \n",
       "10        156        83         72  ...        -0.4        -0.5         9.0   \n",
       "\n",
       "     Feature273  Feature274  Feature275  Feature276  Feature277  Feature278  \\\n",
       "351         0.0         0.0           0         0.1        -0.8        22.6   \n",
       "21         -1.8         0.0           0         0.8         1.1        11.7   \n",
       "118        -1.6         0.0           0         0.7         1.2         7.4   \n",
       "1           0.0         0.0           0         0.2         2.1        20.4   \n",
       "10         -2.0         0.0           0         0.8         0.9        12.3   \n",
       "\n",
       "     Feature279  \n",
       "351        10.8  \n",
       "21         19.6  \n",
       "118        15.5  \n",
       "1          38.8  \n",
       "10         19.3  \n",
       "\n",
       "[5 rows x 279 columns]"
      ]
     },
     "execution_count": 4,
     "metadata": {},
     "output_type": "execute_result"
    }
   ],
   "source": [
    "#Creation of a Training set and a Test set\n",
    "X_train, X_test, y_train, y_test = train_test_split(Data.drop([\"Class\"],axis=1),\n",
    "                                                    Data[\"Class\"],\n",
    "                                                    test_size = 0.03, random_state = 0, shuffle=True)\n",
    "X_train.head()"
   ]
  },
  {
   "cell_type": "markdown",
   "id": "764a0f0c-1a56-4ed9-b48c-776e2749a1b6",
   "metadata": {},
   "source": [
    ".\n",
    "\n",
    ".\n",
    "\n",
    "## **2. Data cleaning and preparation**"
   ]
  },
  {
   "cell_type": "code",
   "execution_count": 5,
   "id": "73bce8f6-fac4-4d41-abda-19ca97d16b66",
   "metadata": {},
   "outputs": [
    {
     "name": "stdout",
     "output_type": "stream",
     "text": [
      "Number of missing values:  393 ( 0.32159866450630925 %)\n"
     ]
    }
   ],
   "source": [
    "#Missing values\n",
    "print(\"Number of missing values: \",X_train.isna().sum().sum(),\"(\",100*X_train.isna().sum().sum()/(X_train.shape[0]*X_train.shape[1]),\"%)\")"
   ]
  },
  {
   "cell_type": "markdown",
   "id": "31b0f7bd-6a71-44da-bf8d-2ae28d11b9f4",
   "metadata": {},
   "source": [
    ".\n",
    "\n",
    "A very small percentage compared to the whole dataset."
   ]
  },
  {
   "cell_type": "code",
   "execution_count": 6,
   "id": "1dcc506a-b6f8-445a-b087-5fa48a294d7b",
   "metadata": {},
   "outputs": [
    {
     "name": "stdout",
     "output_type": "stream",
     "text": [
      "Feature11\n",
      "Feature12\n",
      "Feature13\n",
      "Feature14\n",
      "Feature15\n"
     ]
    }
   ],
   "source": [
    "#Features with missing values\n",
    "for i in X_train.columns:\n",
    "    if X_train[i].isna().sum() > 0 :\n",
    "        print(i)"
   ]
  },
  {
   "cell_type": "code",
   "execution_count": 7,
   "id": "53886773-b115-474b-bf85-104d684f411d",
   "metadata": {},
   "outputs": [
    {
     "data": {
      "image/png": "[encoded data removed]",
      "text/plain": [
       "<Figure size 1080x432 with 5 Axes>"
      ]
     },
     "metadata": {
      "needs_background": "light"
     },
     "output_type": "display_data"
    }
   ],
   "source": [
    "#Data distribution of features 11-12-13-14-15\n",
    "plt.figure(figsize=(15,6))\n",
    "k=1\n",
    "for i in [\"Feature11\",\"Feature12\",\"Feature13\",\"Feature14\",\"Feature15\"] :\n",
    "    plt.subplot(2,3,k)\n",
    "    sn.histplot(x=X_train[i],kde=True)\n",
    "    plt.title(i)\n",
    "    k=k+1\n",
    "\n",
    "plt.tight_layout()"
   ]
  },
  {
   "cell_type": "markdown",
   "id": "6e26bb64-d61d-41d5-8be9-b478b9dca5da",
   "metadata": {},
   "source": [
    ".\n",
    "\n",
    "For what concerns features 11-12-15, a simple mean/median-imputation may be sufficient.\n",
    "\n",
    "Instead, for feature 14, that imputation method may not be a good choice given that the distribution is not Gaussian.\n",
    "\n",
    "However, that feature (as others) represents an *angle*, and missing values can be replaced with 0 (which is the average angle between -180° and 180°)\n",
    "\n",
    "or with the mean/median value of the distribution which is close to 0.\n",
    "\n",
    "This procedure will be applied later.\n",
    "\n",
    ".\n",
    "\n",
    "Before moving on, let's find out more about each feature. \n",
    "\n",
    "Let's check if there are some features with only one unique value."
   ]
  },
  {
   "cell_type": "code",
   "execution_count": 8,
   "id": "f1e571d4-98c7-4af7-aa04-345e4cb502e8",
   "metadata": {},
   "outputs": [
    {
     "name": "stdout",
     "output_type": "stream",
     "text": [
      "Feature20 :  1\n",
      "Feature68 :  1\n",
      "Feature70 :  1\n",
      "Feature84 :  1\n",
      "Feature132 :  1\n",
      "Feature133 :  1\n",
      "Feature140 :  1\n",
      "Feature142 :  1\n",
      "Feature144 :  1\n",
      "Feature146 :  1\n",
      "Feature152 :  1\n",
      "Feature157 :  1\n",
      "Feature158 :  1\n",
      "Feature165 :  1\n",
      "Feature205 :  1\n",
      "Feature265 :  1\n",
      "Feature275 :  1\n"
     ]
    }
   ],
   "source": [
    "#Feature with one unique value\n",
    "Number = 0\n",
    "for i in X_train.columns :\n",
    "    if len(X_train[i].unique())==1 :\n",
    "        print(i, \": \", len(X_train[i].unique()))\n",
    "        Number = Number + 1\n",
    "\n",
    "if Number == 0 :\n",
    "    print(\"All features have at least 2 unique valus\")"
   ]
  },
  {
   "cell_type": "markdown",
   "id": "58b852cc-b0f9-4682-acc8-4c40067898f6",
   "metadata": {},
   "source": [
    ".\n",
    "\n",
    "There is a way to transform those features and preserve the possible information they carry.\n",
    "\n",
    "Let's take a look at some of them, in particular, those nominal values reported as \"existence of ragger _ wave\" in the desciption file (there are several similar groups)."
   ]
  },
  {
   "cell_type": "code",
   "execution_count": 9,
   "id": "6535428a-923c-47b7-b6f2-91ecc24c33f9",
   "metadata": {},
   "outputs": [
    {
     "data": {
      "text/html": [
       "<div>\n",
       "<style scoped>\n",
       "    .dataframe tbody tr th:only-of-type {\n",
       "        vertical-align: middle;\n",
       "    }\n",
       "\n",
       "    .dataframe tbody tr th {\n",
       "        vertical-align: top;\n",
       "    }\n",
       "\n",
       "    .dataframe thead th {\n",
       "        text-align: right;\n",
       "    }\n",
       "</style>\n",
       "<table border=\"1\" class=\"dataframe\">\n",
       "  <thead>\n",
       "    <tr style=\"text-align: right;\">\n",
       "      <th></th>\n",
       "      <th>Feature22</th>\n",
       "      <th>Feature23</th>\n",
       "      <th>Feature24</th>\n",
       "      <th>Feature25</th>\n",
       "      <th>Feature26</th>\n",
       "      <th>Feature27</th>\n",
       "    </tr>\n",
       "  </thead>\n",
       "  <tbody>\n",
       "    <tr>\n",
       "      <th>351</th>\n",
       "      <td>0</td>\n",
       "      <td>0</td>\n",
       "      <td>0</td>\n",
       "      <td>0</td>\n",
       "      <td>0</td>\n",
       "      <td>0</td>\n",
       "    </tr>\n",
       "    <tr>\n",
       "      <th>21</th>\n",
       "      <td>0</td>\n",
       "      <td>0</td>\n",
       "      <td>0</td>\n",
       "      <td>0</td>\n",
       "      <td>0</td>\n",
       "      <td>0</td>\n",
       "    </tr>\n",
       "    <tr>\n",
       "      <th>118</th>\n",
       "      <td>0</td>\n",
       "      <td>0</td>\n",
       "      <td>0</td>\n",
       "      <td>0</td>\n",
       "      <td>0</td>\n",
       "      <td>0</td>\n",
       "    </tr>\n",
       "    <tr>\n",
       "      <th>1</th>\n",
       "      <td>0</td>\n",
       "      <td>0</td>\n",
       "      <td>0</td>\n",
       "      <td>0</td>\n",
       "      <td>0</td>\n",
       "      <td>0</td>\n",
       "    </tr>\n",
       "    <tr>\n",
       "      <th>10</th>\n",
       "      <td>0</td>\n",
       "      <td>0</td>\n",
       "      <td>0</td>\n",
       "      <td>0</td>\n",
       "      <td>0</td>\n",
       "      <td>0</td>\n",
       "    </tr>\n",
       "    <tr>\n",
       "      <th>...</th>\n",
       "      <td>...</td>\n",
       "      <td>...</td>\n",
       "      <td>...</td>\n",
       "      <td>...</td>\n",
       "      <td>...</td>\n",
       "      <td>...</td>\n",
       "    </tr>\n",
       "    <tr>\n",
       "      <th>323</th>\n",
       "      <td>0</td>\n",
       "      <td>0</td>\n",
       "      <td>0</td>\n",
       "      <td>0</td>\n",
       "      <td>0</td>\n",
       "      <td>0</td>\n",
       "    </tr>\n",
       "    <tr>\n",
       "      <th>192</th>\n",
       "      <td>0</td>\n",
       "      <td>0</td>\n",
       "      <td>0</td>\n",
       "      <td>0</td>\n",
       "      <td>0</td>\n",
       "      <td>0</td>\n",
       "    </tr>\n",
       "    <tr>\n",
       "      <th>117</th>\n",
       "      <td>0</td>\n",
       "      <td>0</td>\n",
       "      <td>0</td>\n",
       "      <td>0</td>\n",
       "      <td>0</td>\n",
       "      <td>0</td>\n",
       "    </tr>\n",
       "    <tr>\n",
       "      <th>47</th>\n",
       "      <td>0</td>\n",
       "      <td>0</td>\n",
       "      <td>0</td>\n",
       "      <td>0</td>\n",
       "      <td>0</td>\n",
       "      <td>0</td>\n",
       "    </tr>\n",
       "    <tr>\n",
       "      <th>172</th>\n",
       "      <td>0</td>\n",
       "      <td>0</td>\n",
       "      <td>0</td>\n",
       "      <td>0</td>\n",
       "      <td>0</td>\n",
       "      <td>0</td>\n",
       "    </tr>\n",
       "  </tbody>\n",
       "</table>\n",
       "<p>438 rows × 6 columns</p>\n",
       "</div>"
      ],
      "text/plain": [
       "     Feature22  Feature23  Feature24  Feature25  Feature26  Feature27\n",
       "351          0          0          0          0          0          0\n",
       "21           0          0          0          0          0          0\n",
       "118          0          0          0          0          0          0\n",
       "1            0          0          0          0          0          0\n",
       "10           0          0          0          0          0          0\n",
       "..         ...        ...        ...        ...        ...        ...\n",
       "323          0          0          0          0          0          0\n",
       "192          0          0          0          0          0          0\n",
       "117          0          0          0          0          0          0\n",
       "47           0          0          0          0          0          0\n",
       "172          0          0          0          0          0          0\n",
       "\n",
       "[438 rows x 6 columns]"
      ]
     },
     "execution_count": 9,
     "metadata": {},
     "output_type": "execute_result"
    }
   ],
   "source": [
    "#Example\n",
    "X_train.iloc[:,21:27]"
   ]
  },
  {
   "cell_type": "markdown",
   "id": "331a59dc-addc-48af-9199-4fe2002869aa",
   "metadata": {},
   "source": [
    ".\n",
    "\n",
    "All those groups of features contain 1s and 0s that can be combinedto form a binary number of 6 digits:\n",
    "    \n",
    "In this way, each combination preserve the initial information and represent one single case.\n",
    "\n",
    "A column with only 0s, will be included in those binary numbers without dropping it."
   ]
  },
  {
   "cell_type": "code",
   "execution_count": 10,
   "id": "d1d5b347-56c9-47a3-8ec8-b150aeaf8a1a",
   "metadata": {},
   "outputs": [
    {
     "data": {
      "text/plain": [
       "array([ 0,  1,  2,  3,  4,  8, 16, 17, 32])"
      ]
     },
     "execution_count": 10,
     "metadata": {},
     "output_type": "execute_result"
    }
   ],
   "source": [
    "#Example\n",
    "Bin = []\n",
    "i = 0\n",
    "while i<len(X_train) :\n",
    "    Sum = 0\n",
    "    k=0\n",
    "    j=26\n",
    "    while j>=21 :\n",
    "        Sum = Sum + X_train.iloc[i,j]*2**k\n",
    "        k=k+1\n",
    "        j=j-1\n",
    "    Bin.append(Sum)\n",
    "    i=i+1\n",
    "    \n",
    "np.unique(Bin)"
   ]
  },
  {
   "cell_type": "markdown",
   "id": "a8dd5ae2-e1aa-4950-9496-c61a59e54d2a",
   "metadata": {},
   "source": [
    ".\n",
    "\n",
    "In this example, those six columns can be combined in one column having 9 different classes.\n",
    "\n",
    "Notice that, from the binary number, it is always possible to go back to the original features (number --> binary number --> real values).\n",
    "\n",
    ".\n",
    "\n",
    "The groups of features to consider are:\n",
    "-   22-27\n",
    "-   34-39\n",
    "-   46-51\n",
    "-   58-63\n",
    "-   70-75\n",
    "-   82-87\n",
    "-   94-99\n",
    "-   106-111\n",
    "-   118-123\n",
    "-   130-135\n",
    "-   142-147\n",
    "-   154-159"
   ]
  },
  {
   "cell_type": "code",
   "execution_count": 11,
   "id": "159623b3-f6e8-4efd-87b1-51f12fe07164",
   "metadata": {},
   "outputs": [
    {
     "name": "stdout",
     "output_type": "stream",
     "text": [
      "Feature20 :  1\n",
      "Feature68 :  1\n",
      "Feature70 :  1\n",
      "Feature140 :  1\n",
      "Feature142 :  1\n",
      "Feature152 :  1\n",
      "Feature165 :  1\n",
      "Feature205 :  1\n",
      "Feature265 :  1\n",
      "Feature275 :  1\n"
     ]
    }
   ],
   "source": [
    "#Binary transformation\n",
    "for kk in [27,39,51,63,75,87,99,111,123,135,147,159] :\n",
    "    Bin = []\n",
    "    i = 0\n",
    "    while i<len(X_train) :\n",
    "        Sum = 0\n",
    "        k=0\n",
    "        j=kk-1\n",
    "        while j>=kk-6 :\n",
    "            Sum = Sum + X_train.iloc[i,j]*2**k\n",
    "            k=k+1\n",
    "            j=j-1\n",
    "        Bin.append(Sum)\n",
    "        i=i+1\n",
    "    X_train.iloc[:,kk-1] = Bin\n",
    "\n",
    "    \n",
    "#Find and remove the unnecessary columns keeping only the first column of each group\n",
    "Columns_del = []\n",
    "for kk in [27,39,51,63,75,87,99,111,123,135,147,159] :\n",
    "    j=kk-1\n",
    "    while j>=kk-5 :\n",
    "        Columns_del.append(j)\n",
    "        j=j-1\n",
    "\n",
    "X_train.drop(X_train.columns[Columns_del],axis=1,inplace=True)\n",
    "\n",
    "\n",
    "#Print columns with one value\n",
    "for i in X_train.columns :\n",
    "    if len(X_train[i].unique())==1 :\n",
    "        print(i, \": \", len(X_train[i].unique()))\n",
    "        Number = Number + 1"
   ]
  },
  {
   "cell_type": "markdown",
   "id": "18a32e1c-c3b6-4e5e-804a-50d720832e5b",
   "metadata": {},
   "source": [
    ".\n",
    "\n",
    "The number of columns with one value has been reduced.\n",
    "\n",
    "There are still some columns to take care of:\n",
    "  - Features 20-68-140-152 are related to the S' wave presence (all equal to 0)\n",
    "  - Features 165-205-265-275 are related to the S' wave amplitude (all equal to 0)\n",
    "  - Features 70-142 are those already treated for which the loop above found only one combination\n",
    "\n",
    "For the first features, one way is to combine columns related to R' waves and S' waves together (sum of values).\n",
    "\n",
    "The columns to take care of are:\n",
    "-   19-20\n",
    "-   32-33\n",
    "-   44-45\n",
    "-   56-57\n",
    "-   68-69\n",
    "-   80-81\n",
    "-   92-93\n",
    "-   104-104\n",
    "-   116-117\n",
    "-   128-129\n",
    "-   140-141\n",
    "-   152-153"
   ]
  },
  {
   "cell_type": "code",
   "execution_count": 12,
   "id": "a66b8bf4-7357-4dac-8f5f-61b698811d26",
   "metadata": {},
   "outputs": [
    {
     "name": "stdout",
     "output_type": "stream",
     "text": [
      "Feature70 :  1\n",
      "Feature142 :  1\n",
      "Feature165 :  1\n",
      "Feature205 :  1\n",
      "Feature265 :  1\n",
      "Feature275 :  1\n"
     ]
    }
   ],
   "source": [
    "#Sum of R' wave features and S' wave features (presence)\n",
    "#The first column of each group will be kept (it will contain the sum of values) while the second column will be dropped from the dataset\n",
    "for kk in [19,32,44,56,68,80,92,104,116,128,140,152] :\n",
    "    exec(f\"X_train['Feature{kk}'] = X_train['Feature{kk}'] + X_train['Feature{kk+1}']; X_train.drop(['Feature{kk+1}'],axis=1, inplace=True)\")\n",
    "    \n",
    "    \n",
    "#Print columns with one value\n",
    "for i in X_train.columns :\n",
    "    if len(X_train[i].unique())==1 :\n",
    "        print(i, \": \", len(X_train[i].unique()))\n",
    "        Number = Number + 1"
   ]
  },
  {
   "cell_type": "markdown",
   "id": "f71897cd-1de4-4235-a61c-06aafc213391",
   "metadata": {},
   "source": [
    ".\n",
    "\n",
    "The same procedure (i.e. sum of values) can be applied to some other features:\n",
    "-  164-165\n",
    "-  204-205\n",
    "-  264-265\n",
    "-  274-275"
   ]
  },
  {
   "cell_type": "code",
   "execution_count": 13,
   "id": "da0c7432-5a6d-41cb-b145-adcf9c73f271",
   "metadata": {},
   "outputs": [
    {
     "name": "stdout",
     "output_type": "stream",
     "text": [
      "Feature70 :  1\n",
      "Feature142 :  1\n"
     ]
    }
   ],
   "source": [
    "#Sum of R' wave features and S' wave features (amplitude)\n",
    "#The first column of each group will be kept (it will contain the sum of values) while the second column will be dropped from the dataset\n",
    "for kk in [164,204,264,274] :\n",
    "    exec(f\"X_train['Feature{kk}'] = X_train['Feature{kk}'] + X_train['Feature{kk+1}']; X_train.drop(['Feature{kk+1}'],axis=1, inplace=True)\")\n",
    "    \n",
    "\n",
    "    #Print columns with one value\n",
    "for i in X_train.columns :\n",
    "    if len(X_train[i].unique())==1 :\n",
    "        print(i, \": \", len(X_train[i].unique()))\n",
    "        Number = Number + 1"
   ]
  },
  {
   "cell_type": "markdown",
   "id": "f82986cb-265c-4911-a413-1b94c2af5bf4",
   "metadata": {},
   "source": [
    ".\n",
    "\n",
    "The remaining columns are those features for which the loop above found only one binary combination.\n",
    "\n",
    "The simplest solution is to drop them from the dataset."
   ]
  },
  {
   "cell_type": "code",
   "execution_count": 14,
   "id": "01f7812c-2739-4c91-8423-bc8924312b6e",
   "metadata": {},
   "outputs": [
    {
     "data": {
      "text/plain": [
       "(438, 201)"
      ]
     },
     "execution_count": 14,
     "metadata": {},
     "output_type": "execute_result"
    }
   ],
   "source": [
    "#Drop features with one unique value\n",
    "X_train.drop([\"Feature70\",\"Feature142\"],axis=1, inplace=True)\n",
    "X_train.shape"
   ]
  },
  {
   "cell_type": "markdown",
   "id": "1db5cc16-89ef-4d5d-b744-ef0b8d3d22d6",
   "metadata": {},
   "source": [
    ".\n",
    "\n",
    "The dataset comprices only 201 columns.\n",
    "\n",
    ".\n",
    "\n",
    "Now, it is time to deal with missing values by replacing them with the median of each feature."
   ]
  },
  {
   "cell_type": "code",
   "execution_count": 15,
   "id": "2b51163a-44bd-49de-962f-1497eb6ddcde",
   "metadata": {},
   "outputs": [
    {
     "name": "stdout",
     "output_type": "stream",
     "text": [
      "Number of missing values: 0\n"
     ]
    }
   ],
   "source": [
    "#Missing value - median imputation\n",
    "for i in X_train.columns :\n",
    "    exec(f\"Median_{i} = X_train[i].median() ; X_train[i].fillna(Median_{i},inplace=True)\")    \n",
    "    \n",
    "#Print number of missing values\n",
    "print(\"Number of missing values: {}\".format(X_train.isna().sum().sum()))"
   ]
  },
  {
   "cell_type": "markdown",
   "id": "7e2bd2ea-39ad-4332-8f8d-7994bacac000",
   "metadata": {},
   "source": [
    ".\n",
    "\n",
    "The dataset is finally complete.\n",
    "\n",
    ".\n",
    "\n",
    "Now, it is possible to scale all features using the MinMaxScaler."
   ]
  },
  {
   "cell_type": "code",
   "execution_count": 16,
   "id": "1823fa5c-395d-4dbd-bf42-d7446c599fb1",
   "metadata": {},
   "outputs": [],
   "source": [
    "#Scaling features\n",
    "Numeric_scaler = MinMaxScaler()               #It will be used later\n",
    "Numeric_scaler.fit(X_train)\n",
    "A = Numeric_scaler.transform(X_train)\n",
    "X_train = pd.DataFrame(A, columns=X_train.columns)"
   ]
  },
  {
   "cell_type": "markdown",
   "id": "6429a4ff-46e9-4ac9-ba02-e8ef1e13b3cd",
   "metadata": {},
   "source": [
    ".\n",
    "\n",
    "Let's take a look at the target variable."
   ]
  },
  {
   "cell_type": "code",
   "execution_count": 17,
   "id": "c4d9af81-58eb-4cd2-9fa8-028110491128",
   "metadata": {},
   "outputs": [
    {
     "data": {
      "text/plain": [
       "1     239\n",
       "10     47\n",
       "2      43\n",
       "6      25\n",
       "16     21\n",
       "4      15\n",
       "3      13\n",
       "5      13\n",
       "9       8\n",
       "15      5\n",
       "14      4\n",
       "7       3\n",
       "8       2\n",
       "Name: Class, dtype: int64"
      ]
     },
     "execution_count": 17,
     "metadata": {},
     "output_type": "execute_result"
    }
   ],
   "source": [
    "#Value counts of the target variable\n",
    "y_train.value_counts()"
   ]
  },
  {
   "cell_type": "markdown",
   "id": "1070920c-bfd7-4f96-837a-a7fd9c71731f",
   "metadata": {},
   "source": [
    ".\n",
    "\n",
    "It is highly umbalanced between the normal class (1) and the abnormal (the others).\n",
    "\n",
    "What can be done is to treat 1 as positive class, and all the others like negative class making the dataset balanced (1: 239, 0: 199)"
   ]
  },
  {
   "cell_type": "code",
   "execution_count": 18,
   "id": "4ed0a53e-892d-47bb-b694-9d3880206b13",
   "metadata": {},
   "outputs": [],
   "source": [
    "#Transformation of the target variable\n",
    "y_train.iloc[np.where(y_train!=1)[0]] = 0\n",
    "y_train = np.array(y_train)"
   ]
  },
  {
   "cell_type": "code",
   "execution_count": 19,
   "id": "3dbcf211-efd3-479f-a8ea-b10fd9c3cfae",
   "metadata": {},
   "outputs": [
    {
     "data": {
      "text/plain": [
       "1    0.545662\n",
       "0    0.454338\n",
       "dtype: float64"
      ]
     },
     "execution_count": 19,
     "metadata": {},
     "output_type": "execute_result"
    }
   ],
   "source": [
    "pd.Series(y_train).value_counts()/len(y_train)"
   ]
  },
  {
   "cell_type": "markdown",
   "id": "2496e4ec-7a53-434a-9da1-4d0f89a4e0a3",
   "metadata": {},
   "source": [
    ".\n",
    "\n",
    "What features can be neglected?\n",
    "\n",
    "Given the large number of features, a PCA will be applied to reduce their number, preserving 95% of the total information."
   ]
  },
  {
   "cell_type": "code",
   "execution_count": 20,
   "id": "892e3a37-f458-42d2-8b81-7664d7cbbc76",
   "metadata": {},
   "outputs": [
    {
     "data": {
      "text/plain": [
       "(438, 66)"
      ]
     },
     "execution_count": 20,
     "metadata": {},
     "output_type": "execute_result"
    }
   ],
   "source": [
    "#Feature selection - PCA decomposition\n",
    "B = PCA(n_components = 0.95)             #95%\n",
    "B2 = B.fit(X_train)                      #It will be used later\n",
    "X_train_pca = B2.transform(X_train)\n",
    "X_train_pca.shape"
   ]
  },
  {
   "cell_type": "markdown",
   "id": "076cbc0e-3597-4f5c-8ed9-72356f52e64d",
   "metadata": {},
   "source": [
    ".\n",
    "\n",
    "Now, the final dataset has only 66 features (against the initial number of 280)."
   ]
  },
  {
   "cell_type": "markdown",
   "id": "12a9a771-82f7-40c4-b705-c8bd894cf144",
   "metadata": {},
   "source": [
    ".\n",
    "\n",
    ".\n",
    "\n",
    "## **3. Data transformation function**\n",
    "\n",
    "Before moving one, let's create a function containing all the procedures and transformation shown above\n",
    "\n",
    "The function will be used to transform the *unseen data* at the end of the notebook."
   ]
  },
  {
   "cell_type": "code",
   "execution_count": 21,
   "id": "e18fbbce-f918-40e8-ba5e-49ea4d512da4",
   "metadata": {},
   "outputs": [],
   "source": [
    "def Data_transformation(X,y) :                       \n",
    "    #(1) Combine and drop - part 1\n",
    "    for kk in [27,39,51,63,75,87,99,111,123,135,147,159] :\n",
    "        Bin = []\n",
    "        i = 0\n",
    "        while i<len(X) :\n",
    "            Sum = 0\n",
    "            k=0\n",
    "            j=kk-1\n",
    "            while j>=kk-6 :\n",
    "                Sum = Sum + X.iloc[i,j]*2**k\n",
    "                k=k+1\n",
    "                j=j-1\n",
    "            Bin.append(Sum)\n",
    "            i=i+1\n",
    "        X.iloc[:,kk-1] = Bin\n",
    "\n",
    "    Columns_del = []\n",
    "    for kk in [27,39,51,63,75,87,99,111,123,135,147,159] :\n",
    "        j=kk-1\n",
    "        while j>=kk-5 :\n",
    "            Columns_del.append(j)\n",
    "            j=j-1\n",
    "\n",
    "    X.drop(X.columns[Columns_del],axis=1,inplace=True)\n",
    "\n",
    "    #(2) Combine and drop - part 2\n",
    "    for kk in [19,32,44,56,68,80,92,104,116,128,140,152] :\n",
    "        exec(f\"X['Feature{kk}'] = X['Feature{kk}'] + X['Feature{kk+1}']; X.drop(['Feature{kk+1}'],axis=1, inplace=True)\")\n",
    "    \n",
    "    #(3) Combine and drop - part 3\n",
    "    for kk in [164,204,264,274] :\n",
    "        exec(f\"X['Feature{kk}'] = X['Feature{kk}'] + X['Feature{kk+1}']; X.drop(['Feature{kk+1}'],axis=1, inplace=True)\")\n",
    "    \n",
    "    #(4) Drop negligible features\n",
    "    X.drop([\"Feature70\",\"Feature142\"],axis=1, inplace=True)\n",
    "    \n",
    "    #(5) Replace missing values with median values\n",
    "    for i in X.columns :\n",
    "        exec(f\"X[i].fillna(Median_{i},inplace=True)\")  \n",
    "\n",
    "    #(6) Scaling features\n",
    "    A = Numeric_scaler.transform(X)\n",
    "    X = pd.DataFrame(A, columns = X.columns)        \n",
    "        \n",
    "    #(7) Class transformation within the target variable\n",
    "    y.iloc[np.where(y!=1)[0]] = 0\n",
    "    y = np.array(y)\n",
    "    \n",
    "    #(8) PCA dimensionality reduction\n",
    "    X = B2.transform(X)\n",
    "\n",
    "\n",
    "    return X,y"
   ]
  },
  {
   "cell_type": "markdown",
   "id": "e8b9c717-c3ce-47d2-a292-6cf9c6643ca8",
   "metadata": {},
   "source": [
    ".\n",
    "\n",
    ".\n",
    "\n",
    "## **4. Training: first models**\n",
    "\n",
    "First of all, let's create a Training set (to train models) and a Test set (to evaluate their performace)."
   ]
  },
  {
   "cell_type": "code",
   "execution_count": 22,
   "id": "a0ac4fc8-33e1-40e7-8887-766a8ff87372",
   "metadata": {},
   "outputs": [],
   "source": [
    "#Creation of a Training set and a Test set\n",
    "#A stratified will be used to preserve the class proportions of the target variable\n",
    "sss = StratifiedShuffleSplit(n_splits=1,test_size=0.2,random_state = 0)\n",
    "\n",
    "for train_index, test_index in sss.split(X_train_pca, y_train) :\n",
    "    X_train_t, X_test_t = X_train_pca[train_index], X_train_pca[test_index]\n",
    "    y_train_t, y_test_t = y_train[train_index], y_train[test_index]"
   ]
  },
  {
   "cell_type": "markdown",
   "id": "ab3cbba5-51d6-472d-b5de-0b69a72ab81d",
   "metadata": {},
   "source": [
    ".\n",
    "\n",
    "Several models will be applied on the Training set to predict the variable \"Class\".\n",
    "\n",
    "A stratified k-fold cross-valiation method will be used to evaluate each model mean score."
   ]
  },
  {
   "cell_type": "code",
   "execution_count": 23,
   "id": "b526d1f7-2bb1-49f1-a993-99278ee0684c",
   "metadata": {},
   "outputs": [
    {
     "name": "stdout",
     "output_type": "stream",
     "text": [
      "90.0 %"
     ]
    },
    {
     "data": {
      "text/html": [
       "<div>\n",
       "<style scoped>\n",
       "    .dataframe tbody tr th:only-of-type {\n",
       "        vertical-align: middle;\n",
       "    }\n",
       "\n",
       "    .dataframe tbody tr th {\n",
       "        vertical-align: top;\n",
       "    }\n",
       "\n",
       "    .dataframe thead th {\n",
       "        text-align: right;\n",
       "    }\n",
       "</style>\n",
       "<table border=\"1\" class=\"dataframe\">\n",
       "  <thead>\n",
       "    <tr style=\"text-align: right;\">\n",
       "      <th></th>\n",
       "      <th>Mean_accuracy</th>\n",
       "      <th>Mean_Precision</th>\n",
       "      <th>Mean_Recall</th>\n",
       "      <th>Mean_F1_score</th>\n",
       "      <th>Mean_AUC_score</th>\n",
       "    </tr>\n",
       "  </thead>\n",
       "  <tbody>\n",
       "    <tr>\n",
       "      <th>SVM</th>\n",
       "      <td>0.758286</td>\n",
       "      <td>0.734953</td>\n",
       "      <td>0.877422</td>\n",
       "      <td>0.798515</td>\n",
       "      <td>0.816283</td>\n",
       "    </tr>\n",
       "    <tr>\n",
       "      <th>Logistic</th>\n",
       "      <td>0.743714</td>\n",
       "      <td>0.730959</td>\n",
       "      <td>0.843819</td>\n",
       "      <td>0.782203</td>\n",
       "      <td>0.801126</td>\n",
       "    </tr>\n",
       "    <tr>\n",
       "      <th>ExtraTrees</th>\n",
       "      <td>0.725143</td>\n",
       "      <td>0.716439</td>\n",
       "      <td>0.829339</td>\n",
       "      <td>0.766961</td>\n",
       "      <td>0.789991</td>\n",
       "    </tr>\n",
       "    <tr>\n",
       "      <th>RandomForest</th>\n",
       "      <td>0.715429</td>\n",
       "      <td>0.732689</td>\n",
       "      <td>0.760135</td>\n",
       "      <td>0.743887</td>\n",
       "      <td>0.784645</td>\n",
       "    </tr>\n",
       "    <tr>\n",
       "      <th>GaussianNB</th>\n",
       "      <td>0.702000</td>\n",
       "      <td>0.695844</td>\n",
       "      <td>0.814642</td>\n",
       "      <td>0.748898</td>\n",
       "      <td>0.758998</td>\n",
       "    </tr>\n",
       "    <tr>\n",
       "      <th>XGBoost</th>\n",
       "      <td>0.693429</td>\n",
       "      <td>0.704489</td>\n",
       "      <td>0.760148</td>\n",
       "      <td>0.729028</td>\n",
       "      <td>0.762114</td>\n",
       "    </tr>\n",
       "    <tr>\n",
       "      <th>ADABoost</th>\n",
       "      <td>0.661143</td>\n",
       "      <td>0.682971</td>\n",
       "      <td>0.715074</td>\n",
       "      <td>0.696169</td>\n",
       "      <td>0.715853</td>\n",
       "    </tr>\n",
       "    <tr>\n",
       "      <th>DecisionTree</th>\n",
       "      <td>0.629714</td>\n",
       "      <td>0.659272</td>\n",
       "      <td>0.670634</td>\n",
       "      <td>0.663146</td>\n",
       "      <td>0.625539</td>\n",
       "    </tr>\n",
       "  </tbody>\n",
       "</table>\n",
       "</div>"
      ],
      "text/plain": [
       "              Mean_accuracy  Mean_Precision  Mean_Recall  Mean_F1_score  \\\n",
       "SVM                0.758286        0.734953     0.877422       0.798515   \n",
       "Logistic           0.743714        0.730959     0.843819       0.782203   \n",
       "ExtraTrees         0.725143        0.716439     0.829339       0.766961   \n",
       "RandomForest       0.715429        0.732689     0.760135       0.743887   \n",
       "GaussianNB         0.702000        0.695844     0.814642       0.748898   \n",
       "XGBoost            0.693429        0.704489     0.760148       0.729028   \n",
       "ADABoost           0.661143        0.682971     0.715074       0.696169   \n",
       "DecisionTree       0.629714        0.659272     0.670634       0.663146   \n",
       "\n",
       "              Mean_AUC_score  \n",
       "SVM                 0.816283  \n",
       "Logistic            0.801126  \n",
       "ExtraTrees          0.789991  \n",
       "RandomForest        0.784645  \n",
       "GaussianNB          0.758998  \n",
       "XGBoost             0.762114  \n",
       "ADABoost            0.715853  \n",
       "DecisionTree        0.625539  "
      ]
     },
     "execution_count": 23,
     "metadata": {},
     "output_type": "execute_result"
    }
   ],
   "source": [
    "#Iterative training with different models\n",
    "Iterations = 10\n",
    "Model_log2_acc,Model_tree2_acc,Model_ran2_acc,Model_xgb2_acc,Model_svm2_acc, Model_ada2_acc,Model_ext2_acc, Model_gau2_acc = 0,0,0,0,0,0,0,0\n",
    "Model_log2_pre,Model_tree2_pre,Model_ran2_pre,Model_xgb2_pre,Model_svm2_pre, Model_ada2_pre,Model_ext2_pre, Model_gau2_pre = 0,0,0,0,0,0,0,0\n",
    "Model_log2_rec,Model_tree2_rec,Model_ran2_rec,Model_xgb2_rec,Model_svm2_rec, Model_ada2_rec,Model_ext2_rec, Model_gau2_rec = 0,0,0,0,0,0,0,0\n",
    "Model_log2_f1,Model_tree2_f1,Model_ran2_f1,Model_xgb2_f1,Model_svm2_f1, Model_ada2_f1,Model_ext2_f1, Model_gau2_f1 = 0,0,0,0,0,0,0,0\n",
    "Model_log2_auc,Model_tree2_auc,Model_ran2_auc,Model_xgb2_auc,Model_svm2_auc, Model_ada2_auc,Model_ext2_auc, Model_gau2_auc = 0,0,0,0,0,0,0,0\n",
    "for i in range(Iterations) :\n",
    "    print(f'\\r{100*(i)/(Iterations)} %', end='')       #Counter (%)\n",
    "    #K-fold split\n",
    "    CV = StratifiedKFold(n_splits = 5, random_state = i, shuffle = True)\n",
    "\n",
    "    #Logistic regression\n",
    "    Model_log = LogisticRegression()     #To give more importance to the less frequent class\n",
    "    Model_log2_acc = Model_log2_acc + cross_val_score(Model_log, X_train_t, y_train_t, cv = CV, scoring = \"accuracy\").mean()\n",
    "    Model_log2_pre = Model_log2_pre + cross_val_score(Model_log, X_train_t, y_train_t, cv = CV, scoring = \"precision\").mean()      \n",
    "    Model_log2_rec = Model_log2_rec + cross_val_score(Model_log, X_train_t, y_train_t, cv = CV, scoring = \"recall\").mean()      \n",
    "    Model_log2_f1 = Model_log2_f1 + cross_val_score(Model_log, X_train_t, y_train_t, cv = CV, scoring = \"f1\").mean()\n",
    "    Model_log2_auc = Model_log2_auc + cross_val_score(Model_log, X_train_t, y_train_t, cv = CV, scoring = \"roc_auc\").mean()\n",
    "\n",
    "    #Decision tree\n",
    "    Model_tree = DecisionTreeClassifier(random_state = 0)\n",
    "    Model_tree2_acc = Model_tree2_acc + cross_val_score(Model_tree, X_train_t, y_train_t, cv = CV, scoring = \"accuracy\").mean()\n",
    "    Model_tree2_pre = Model_tree2_pre + cross_val_score(Model_tree, X_train_t, y_train_t, cv = CV, scoring = \"precision\").mean()      \n",
    "    Model_tree2_rec = Model_tree2_rec + cross_val_score(Model_tree, X_train_t, y_train_t, cv = CV, scoring = \"recall\").mean()     \n",
    "    Model_tree2_f1 = Model_tree2_f1 + cross_val_score(Model_tree, X_train_t, y_train_t, cv = CV, scoring = \"f1\").mean()\n",
    "    Model_tree2_auc = Model_tree2_auc + cross_val_score(Model_tree, X_train_t, y_train_t, cv = CV, scoring = \"roc_auc\").mean()\n",
    "    \n",
    "    #Random forest\n",
    "    Model_ran = RandomForestClassifier(random_state = 0)\n",
    "    Model_ran2_acc = Model_ran2_acc + cross_val_score(Model_ran, X_train_t, y_train_t, cv = CV, scoring = \"accuracy\").mean()\n",
    "    Model_ran2_pre = Model_ran2_pre + cross_val_score(Model_ran, X_train_t, y_train_t, cv = CV, scoring = \"precision\").mean()      \n",
    "    Model_ran2_rec = Model_ran2_rec + cross_val_score(Model_ran, X_train_t, y_train_t, cv = CV, scoring = \"recall\").mean()      \n",
    "    Model_ran2_f1 = Model_ran2_f1 + cross_val_score(Model_ran, X_train_t, y_train_t, cv = CV, scoring = \"f1\").mean()\n",
    "    Model_ran2_auc = Model_ran2_auc + cross_val_score(Model_ran, X_train_t, y_train_t, cv = CV, scoring = \"roc_auc\").mean()\n",
    "    \n",
    "    #XGBoost\n",
    "    Model_xgb = xgb.XGBClassifier(eval_metric=\"logloss\", use_label_encoder=False, seed=0)    #ratio neg/pos\n",
    "    Model_xgb2_acc = Model_xgb2_acc + cross_val_score(Model_xgb, X_train_t, y_train_t, cv = CV, scoring = \"accuracy\").mean()\n",
    "    Model_xgb2_pre = Model_xgb2_pre + cross_val_score(Model_xgb, X_train_t, y_train_t, cv = CV, scoring = \"precision\").mean()      \n",
    "    Model_xgb2_rec = Model_xgb2_rec + cross_val_score(Model_xgb, X_train_t, y_train_t, cv = CV, scoring = \"recall\").mean()      \n",
    "    Model_xgb2_f1 = Model_xgb2_f1 + cross_val_score(Model_xgb, X_train_t, y_train_t, cv = CV, scoring = \"f1\").mean()\n",
    "    Model_xgb2_auc = Model_xgb2_auc + cross_val_score(Model_xgb, X_train_t, y_train_t, cv = CV, scoring = \"roc_auc\").mean()\n",
    "    \n",
    "    #SVM\n",
    "    Model_svm = svm.SVC(probability=True)\n",
    "    Model_svm2_acc = Model_svm2_acc + cross_val_score(Model_svm, X_train_t, y_train_t, cv = CV, scoring = \"accuracy\").mean()\n",
    "    Model_svm2_pre = Model_svm2_pre + cross_val_score(Model_svm, X_train_t, y_train_t, cv = CV, scoring = \"precision\").mean()\n",
    "    Model_svm2_rec = Model_svm2_rec + cross_val_score(Model_svm, X_train_t, y_train_t, cv = CV, scoring = \"recall\").mean()     \n",
    "    Model_svm2_f1 = Model_svm2_f1 + cross_val_score(Model_svm, X_train_t, y_train_t, cv = CV, scoring = \"f1\").mean()\n",
    "    Model_svm2_auc = Model_svm2_auc + cross_val_score(Model_svm, X_train_t, y_train_t, cv = CV, scoring = \"roc_auc\").mean()\n",
    "    \n",
    "    #ADABoosting\n",
    "    Model_ada = AdaBoostClassifier(random_state=0)\n",
    "    Model_ada2_acc = Model_ada2_acc + cross_val_score(Model_ada, X_train_t, y_train_t, cv = CV, scoring = \"accuracy\").mean()\n",
    "    Model_ada2_pre = Model_ada2_pre + cross_val_score(Model_ada, X_train_t, y_train_t, cv = CV, scoring = \"precision\").mean()\n",
    "    Model_ada2_rec = Model_ada2_rec + cross_val_score(Model_ada, X_train_t, y_train_t, cv = CV, scoring = \"recall\").mean()     \n",
    "    Model_ada2_f1 = Model_ada2_f1 + cross_val_score(Model_ada, X_train_t, y_train_t, cv = CV, scoring = \"f1\").mean()\n",
    "    Model_ada2_auc = Model_ada2_auc + cross_val_score(Model_ada, X_train_t, y_train_t, cv = CV, scoring = \"roc_auc\").mean()\n",
    "    \n",
    "    #ExtraTrees\n",
    "    Model_ext = ExtraTreesClassifier(random_state=0)\n",
    "    Model_ext2_acc = Model_ext2_acc + cross_val_score(Model_ext, X_train_t, y_train_t, cv = CV, scoring = \"accuracy\").mean()\n",
    "    Model_ext2_pre = Model_ext2_pre + cross_val_score(Model_ext, X_train_t, y_train_t, cv = CV, scoring = \"precision\").mean()\n",
    "    Model_ext2_rec = Model_ext2_rec + cross_val_score(Model_ext, X_train_t, y_train_t, cv = CV, scoring = \"recall\").mean()     \n",
    "    Model_ext2_f1 = Model_ext2_f1 + cross_val_score(Model_ext, X_train_t, y_train_t, cv = CV, scoring = \"f1\").mean()\n",
    "    Model_ext2_auc = Model_ext2_auc + cross_val_score(Model_ext, X_train_t, y_train_t, cv = CV, scoring = \"roc_auc\").mean()\n",
    "    \n",
    "    #GaussianNB\n",
    "    Model_gau = GaussianNB()\n",
    "    Model_gau2_acc = Model_gau2_acc + cross_val_score(Model_gau, X_train_t, y_train_t, cv = CV, scoring = \"accuracy\").mean()\n",
    "    Model_gau2_pre = Model_gau2_pre + cross_val_score(Model_gau, X_train_t, y_train_t, cv = CV, scoring = \"precision\").mean()\n",
    "    Model_gau2_rec = Model_gau2_rec + cross_val_score(Model_gau, X_train_t, y_train_t, cv = CV, scoring = \"recall\").mean()     \n",
    "    Model_gau2_f1 = Model_gau2_f1 + cross_val_score(Model_gau, X_train_t, y_train_t, cv = CV, scoring = \"f1\").mean()\n",
    "    Model_gau2_auc = Model_gau2_auc + cross_val_score(Model_gau, X_train_t, y_train_t, cv = CV, scoring = \"roc_auc\").mean()\n",
    "\n",
    "        \n",
    "#Final results\n",
    "Data_res = {\"Mean_accuracy\" : [Model_log2_acc/Iterations,Model_tree2_acc/Iterations,Model_ran2_acc/Iterations,\n",
    "                               Model_xgb2_acc/Iterations,Model_svm2_acc/Iterations,Model_ada2_acc/Iterations\n",
    "                              ,Model_ext2_acc/Iterations,Model_gau2_acc/Iterations],\n",
    "            \"Mean_Precision\" : [Model_log2_pre/Iterations,Model_tree2_pre/Iterations,Model_ran2_pre/Iterations,\n",
    "                               Model_xgb2_pre/Iterations,Model_svm2_pre/Iterations,Model_ada2_pre/Iterations\n",
    "                              ,Model_ext2_pre/Iterations,Model_gau2_pre/Iterations],\n",
    "            \"Mean_Recall\" : [Model_log2_rec/Iterations,Model_tree2_rec/Iterations,Model_ran2_rec/Iterations,\n",
    "                               Model_xgb2_rec/Iterations,Model_svm2_rec/Iterations,Model_ada2_rec/Iterations\n",
    "                              ,Model_ext2_rec/Iterations,Model_gau2_rec/Iterations],\n",
    "            \"Mean_F1_score\" : [Model_log2_f1/Iterations,Model_tree2_f1/Iterations,Model_ran2_f1/Iterations,\n",
    "                               Model_xgb2_f1/Iterations,Model_svm2_f1/Iterations,Model_ada2_f1/Iterations\n",
    "                              ,Model_ext2_f1/Iterations,Model_gau2_f1/Iterations],\n",
    "            \"Mean_AUC_score\" : [Model_log2_auc/Iterations,Model_tree2_auc/Iterations,Model_ran2_auc/Iterations,\n",
    "                               Model_xgb2_auc/Iterations,Model_svm2_auc/Iterations,Model_ada2_auc/Iterations\n",
    "                              ,Model_ext2_auc/Iterations,Model_gau2_auc/Iterations]\n",
    "            }\n",
    "\n",
    "Results = pd.DataFrame(data = Data_res, index = [\"Logistic\", \"DecisionTree\",\"RandomForest\",\"XGBoost\",\"SVM\",\"ADABoost\",\"ExtraTrees\",\"GaussianNB\"])\n",
    "Results.sort_values(by=\"Mean_accuracy\",ascending=False)"
   ]
  },
  {
   "cell_type": "markdown",
   "id": "98fb6d55-73a6-4144-a983-3e0428f078db",
   "metadata": {},
   "source": [
    ".\n",
    "\n",
    ".\n",
    "\n",
    "## **5. Training: hyperparameters tuning**\n",
    "\n",
    "The best models are SVM, Logistc, and ExtraTrees.\n",
    "\n",
    "Let's proceed with their hyperparameter tuning. The scoring metric will be the *accuracy*."
   ]
  },
  {
   "cell_type": "code",
   "execution_count": 24,
   "id": "29c6da33-f645-48a2-ba09-f0ef99d8cad3",
   "metadata": {},
   "outputs": [
    {
     "name": "stdout",
     "output_type": "stream",
     "text": [
      "SVM model: done!\n"
     ]
    },
    {
     "name": "stderr",
     "output_type": "stream",
     "text": [
      "/home/samuele/miniconda3/lib/python3.7/site-packages/sklearn/linear_model/_logistic.py:1484: UserWarning: Setting penalty='none' will ignore the C and l1_ratio parameters\n",
      "  \"Setting penalty='none' will ignore the C and l1_ratio parameters\"\n",
      "/home/samuele/miniconda3/lib/python3.7/site-packages/sklearn/linear_model/_logistic.py:1484: UserWarning: Setting penalty='none' will ignore the C and l1_ratio parameters\n",
      "  \"Setting penalty='none' will ignore the C and l1_ratio parameters\"\n",
      "/home/samuele/miniconda3/lib/python3.7/site-packages/sklearn/linear_model/_logistic.py:1484: UserWarning: Setting penalty='none' will ignore the C and l1_ratio parameters\n",
      "  \"Setting penalty='none' will ignore the C and l1_ratio parameters\"\n",
      "/home/samuele/miniconda3/lib/python3.7/site-packages/sklearn/linear_model/_logistic.py:1484: UserWarning: Setting penalty='none' will ignore the C and l1_ratio parameters\n",
      "  \"Setting penalty='none' will ignore the C and l1_ratio parameters\"\n",
      "/home/samuele/miniconda3/lib/python3.7/site-packages/sklearn/linear_model/_logistic.py:1484: UserWarning: Setting penalty='none' will ignore the C and l1_ratio parameters\n",
      "  \"Setting penalty='none' will ignore the C and l1_ratio parameters\"\n",
      "/home/samuele/miniconda3/lib/python3.7/site-packages/sklearn/linear_model/_logistic.py:1484: UserWarning: Setting penalty='none' will ignore the C and l1_ratio parameters\n",
      "  \"Setting penalty='none' will ignore the C and l1_ratio parameters\"\n",
      "/home/samuele/miniconda3/lib/python3.7/site-packages/sklearn/linear_model/_logistic.py:1484: UserWarning: Setting penalty='none' will ignore the C and l1_ratio parameters\n",
      "  \"Setting penalty='none' will ignore the C and l1_ratio parameters\"\n",
      "/home/samuele/miniconda3/lib/python3.7/site-packages/sklearn/linear_model/_logistic.py:1484: UserWarning: Setting penalty='none' will ignore the C and l1_ratio parameters\n",
      "  \"Setting penalty='none' will ignore the C and l1_ratio parameters\"\n",
      "/home/samuele/miniconda3/lib/python3.7/site-packages/sklearn/linear_model/_logistic.py:1484: UserWarning: Setting penalty='none' will ignore the C and l1_ratio parameters\n",
      "  \"Setting penalty='none' will ignore the C and l1_ratio parameters\"\n",
      "/home/samuele/miniconda3/lib/python3.7/site-packages/sklearn/linear_model/_logistic.py:1484: UserWarning: Setting penalty='none' will ignore the C and l1_ratio parameters\n",
      "  \"Setting penalty='none' will ignore the C and l1_ratio parameters\"\n",
      "/home/samuele/miniconda3/lib/python3.7/site-packages/sklearn/linear_model/_logistic.py:1484: UserWarning: Setting penalty='none' will ignore the C and l1_ratio parameters\n",
      "  \"Setting penalty='none' will ignore the C and l1_ratio parameters\"\n",
      "/home/samuele/miniconda3/lib/python3.7/site-packages/sklearn/linear_model/_logistic.py:1484: UserWarning: Setting penalty='none' will ignore the C and l1_ratio parameters\n",
      "  \"Setting penalty='none' will ignore the C and l1_ratio parameters\"\n",
      "/home/samuele/miniconda3/lib/python3.7/site-packages/sklearn/linear_model/_logistic.py:1484: UserWarning: Setting penalty='none' will ignore the C and l1_ratio parameters\n",
      "  \"Setting penalty='none' will ignore the C and l1_ratio parameters\"\n",
      "/home/samuele/miniconda3/lib/python3.7/site-packages/sklearn/linear_model/_logistic.py:1484: UserWarning: Setting penalty='none' will ignore the C and l1_ratio parameters\n",
      "  \"Setting penalty='none' will ignore the C and l1_ratio parameters\"\n",
      "/home/samuele/miniconda3/lib/python3.7/site-packages/sklearn/linear_model/_logistic.py:1484: UserWarning: Setting penalty='none' will ignore the C and l1_ratio parameters\n",
      "  \"Setting penalty='none' will ignore the C and l1_ratio parameters\"\n",
      "/home/samuele/miniconda3/lib/python3.7/site-packages/sklearn/linear_model/_logistic.py:1484: UserWarning: Setting penalty='none' will ignore the C and l1_ratio parameters\n",
      "  \"Setting penalty='none' will ignore the C and l1_ratio parameters\"\n",
      "/home/samuele/miniconda3/lib/python3.7/site-packages/sklearn/linear_model/_logistic.py:1484: UserWarning: Setting penalty='none' will ignore the C and l1_ratio parameters\n",
      "  \"Setting penalty='none' will ignore the C and l1_ratio parameters\"\n",
      "/home/samuele/miniconda3/lib/python3.7/site-packages/sklearn/linear_model/_logistic.py:1484: UserWarning: Setting penalty='none' will ignore the C and l1_ratio parameters\n",
      "  \"Setting penalty='none' will ignore the C and l1_ratio parameters\"\n",
      "/home/samuele/miniconda3/lib/python3.7/site-packages/sklearn/linear_model/_logistic.py:1484: UserWarning: Setting penalty='none' will ignore the C and l1_ratio parameters\n",
      "  \"Setting penalty='none' will ignore the C and l1_ratio parameters\"\n",
      "/home/samuele/miniconda3/lib/python3.7/site-packages/sklearn/linear_model/_logistic.py:1484: UserWarning: Setting penalty='none' will ignore the C and l1_ratio parameters\n",
      "  \"Setting penalty='none' will ignore the C and l1_ratio parameters\"\n",
      "/home/samuele/miniconda3/lib/python3.7/site-packages/sklearn/linear_model/_logistic.py:1484: UserWarning: Setting penalty='none' will ignore the C and l1_ratio parameters\n",
      "  \"Setting penalty='none' will ignore the C and l1_ratio parameters\"\n",
      "/home/samuele/miniconda3/lib/python3.7/site-packages/sklearn/linear_model/_logistic.py:1484: UserWarning: Setting penalty='none' will ignore the C and l1_ratio parameters\n",
      "  \"Setting penalty='none' will ignore the C and l1_ratio parameters\"\n",
      "/home/samuele/miniconda3/lib/python3.7/site-packages/sklearn/linear_model/_logistic.py:1484: UserWarning: Setting penalty='none' will ignore the C and l1_ratio parameters\n",
      "  \"Setting penalty='none' will ignore the C and l1_ratio parameters\"\n",
      "/home/samuele/miniconda3/lib/python3.7/site-packages/sklearn/linear_model/_logistic.py:1484: UserWarning: Setting penalty='none' will ignore the C and l1_ratio parameters\n",
      "  \"Setting penalty='none' will ignore the C and l1_ratio parameters\"\n",
      "/home/samuele/miniconda3/lib/python3.7/site-packages/sklearn/linear_model/_logistic.py:1484: UserWarning: Setting penalty='none' will ignore the C and l1_ratio parameters\n",
      "  \"Setting penalty='none' will ignore the C and l1_ratio parameters\"\n",
      "/home/samuele/miniconda3/lib/python3.7/site-packages/sklearn/linear_model/_logistic.py:1484: UserWarning: Setting penalty='none' will ignore the C and l1_ratio parameters\n",
      "  \"Setting penalty='none' will ignore the C and l1_ratio parameters\"\n",
      "/home/samuele/miniconda3/lib/python3.7/site-packages/sklearn/linear_model/_logistic.py:1484: UserWarning: Setting penalty='none' will ignore the C and l1_ratio parameters\n",
      "  \"Setting penalty='none' will ignore the C and l1_ratio parameters\"\n",
      "/home/samuele/miniconda3/lib/python3.7/site-packages/sklearn/linear_model/_logistic.py:1484: UserWarning: Setting penalty='none' will ignore the C and l1_ratio parameters\n",
      "  \"Setting penalty='none' will ignore the C and l1_ratio parameters\"\n",
      "/home/samuele/miniconda3/lib/python3.7/site-packages/sklearn/linear_model/_logistic.py:1484: UserWarning: Setting penalty='none' will ignore the C and l1_ratio parameters\n",
      "  \"Setting penalty='none' will ignore the C and l1_ratio parameters\"\n",
      "/home/samuele/miniconda3/lib/python3.7/site-packages/sklearn/linear_model/_logistic.py:1484: UserWarning: Setting penalty='none' will ignore the C and l1_ratio parameters\n",
      "  \"Setting penalty='none' will ignore the C and l1_ratio parameters\"\n",
      "/home/samuele/miniconda3/lib/python3.7/site-packages/sklearn/linear_model/_logistic.py:1484: UserWarning: Setting penalty='none' will ignore the C and l1_ratio parameters\n",
      "  \"Setting penalty='none' will ignore the C and l1_ratio parameters\"\n",
      "/home/samuele/miniconda3/lib/python3.7/site-packages/sklearn/linear_model/_logistic.py:1484: UserWarning: Setting penalty='none' will ignore the C and l1_ratio parameters\n",
      "  \"Setting penalty='none' will ignore the C and l1_ratio parameters\"\n",
      "/home/samuele/miniconda3/lib/python3.7/site-packages/sklearn/linear_model/_logistic.py:1484: UserWarning: Setting penalty='none' will ignore the C and l1_ratio parameters\n",
      "  \"Setting penalty='none' will ignore the C and l1_ratio parameters\"\n",
      "/home/samuele/miniconda3/lib/python3.7/site-packages/sklearn/linear_model/_logistic.py:1484: UserWarning: Setting penalty='none' will ignore the C and l1_ratio parameters\n",
      "  \"Setting penalty='none' will ignore the C and l1_ratio parameters\"\n",
      "/home/samuele/miniconda3/lib/python3.7/site-packages/sklearn/linear_model/_logistic.py:1484: UserWarning: Setting penalty='none' will ignore the C and l1_ratio parameters\n",
      "  \"Setting penalty='none' will ignore the C and l1_ratio parameters\"\n"
     ]
    },
    {
     "name": "stdout",
     "output_type": "stream",
     "text": [
      "Logistic model: done!\n",
      "ExtraTrees model: done!\n",
      "\n",
      "\n",
      "The best SVM Classification model is:  {'C': 0.5, 'kernel': 'linear', 'probability': True, 'random_state': 0}\n",
      "The best Logistic model is:  {'C': 1, 'max_iter': 10000.0, 'penalty': 'l2', 'solver': 'newton-cg'}\n",
      "The best ExtraTrees Classification model is:  {'class_weight': 'balanced', 'max_depth': 4, 'min_samples_leaf': 5, 'min_samples_split': 3, 'n_estimators': 100, 'random_state': 0}\n",
      "\n",
      "The best SVM Classification Accuracy is:  0.7685714285714285\n",
      "The best Logistic Accuracy is:  0.7485714285714286\n",
      "The best ExtraTrees Classification Accuracy is:  0.7485714285714286\n"
     ]
    }
   ],
   "source": [
    "#Hyperameters grid\n",
    "Params_svm = {\"C\":[0.001,0.01,0.1,0.5,1,5,10], \"kernel\":[\"linear\", \"poly\",\"rbf\",\"sigmoid\"], \"probability\":[True],\"random_state\": [0]}\n",
    "Params_log = {\"penalty\":[\"l1\",\"l2\",\"elasticnet\",\"none\"], \"C\":[0.001,0.01,0.1,0.5,1,5,10], \"solver\":[\"newton-cg\",\"lbfgs\",\"liblinear\",\"saga\"], \"max_iter\":[1e04]}\n",
    "Params_ext = {\"n_estimators\":[100,200], \"max_depth\":[2,3,4], \"min_samples_split\":[3,5],\"min_samples_leaf\":[3,5,8],\"class_weight\":[\"balanced\"], \"random_state\": [0]}\n",
    "\n",
    "#Grid search with a 5-fold cross-validation method\\\n",
    "CV = KFold(n_splits=5, random_state = 0, shuffle=True)\n",
    "Grid_svm = GridSearchCV(Model_svm, cv = CV, param_grid = Params_svm, scoring = \"accuracy\", n_jobs = -1, return_train_score=True)\n",
    "Grid_svm2 = Grid_svm.fit(X_train_t, y_train_t)\n",
    "print(\"SVM model: done!\")\n",
    "Grid_log = GridSearchCV(Model_log, cv = CV, param_grid = Params_log, scoring = \"accuracy\", n_jobs = -1, return_train_score=True)\n",
    "Grid_log2 = Grid_log.fit(X_train_t, y_train_t)\n",
    "print(\"Logistic model: done!\")\n",
    "Grid_ext = GridSearchCV(Model_ext, cv = CV, param_grid = Params_ext, scoring = \"accuracy\", n_jobs = -1, return_train_score=True)\n",
    "Grid_ext2 = Grid_ext.fit(X_train_t, y_train_t)\n",
    "print(\"ExtraTrees model: done!\")\n",
    "\n",
    "print(\"\\n\\nThe best SVM Classification model is: \",Grid_svm2.best_params_)\n",
    "print(\"The best Logistic model is: \",Grid_log2.best_params_)\n",
    "print(\"The best ExtraTrees Classification model is: \",Grid_ext2.best_params_)\n",
    "print(\"\\nThe best SVM Classification Accuracy is: \",Grid_svm2.best_score_)\n",
    "print(\"The best Logistic Accuracy is: \",Grid_log2.best_score_)\n",
    "print(\"The best ExtraTrees Classification Accuracy is: \",Grid_ext2.best_score_)"
   ]
  },
  {
   "cell_type": "markdown",
   "id": "e898ce02-0f3c-45af-aeb4-5b9e0f189fca",
   "metadata": {},
   "source": [
    ".\n",
    "\n",
    "The SVM model seems to be the best one.\n",
    "\n",
    "Let's take a look at the training accuracy vs. validation accuracy plot to understand if the models are overfitting the data.\n",
    "\n",
    "A shaded blue region will be added on the plot: it represent a sort \"confidence interval against overfitting\"\n",
    "\n",
    "Points in the region are related to model not overfitting (or slighlty overfitting the data).\n",
    "\n",
    "Points outside the region are related to models that overfitted the data."
   ]
  },
  {
   "cell_type": "code",
   "execution_count": 25,
   "id": "bb66e202-54a0-4e1a-b40a-41cba82e5ed5",
   "metadata": {},
   "outputs": [
    {
     "data": {
      "text/plain": [
       "<matplotlib.legend.Legend at 0x7f2f565011d0>"
      ]
     },
     "execution_count": 25,
     "metadata": {},
     "output_type": "execute_result"
    },
    {
     "data": {
      "image/png": "[encoded data removed]",
      "text/plain": [
       "<Figure size 432x288 with 1 Axes>"
      ]
     },
     "metadata": {
      "needs_background": "light"
     },
     "output_type": "display_data"
    }
   ],
   "source": [
    "#Training vs. Validation accuracy\n",
    "A = pd.concat([pd.Series(Grid_svm2.cv_results_[\"mean_test_score\"]),pd.Series(Grid_svm2.cv_results_[\"mean_train_score\"])],axis=1)\n",
    "B = pd.concat([pd.Series(Grid_log2.cv_results_[\"mean_test_score\"]),pd.Series(Grid_log2.cv_results_[\"mean_train_score\"])],axis=1)\n",
    "C = pd.concat([pd.Series(Grid_ext2.cv_results_[\"mean_test_score\"]),pd.Series(Grid_ext2.cv_results_[\"mean_train_score\"])],axis=1)\n",
    "A.columns=[\"Test\",\"Train\"]\n",
    "B.columns=[\"Test\",\"Train\"]\n",
    "C.columns=[\"Test\",\"Train\"]\n",
    "A.sort_values(\"Test\")\n",
    "B.sort_values(\"Test\")\n",
    "C.sort_values(\"Test\")\n",
    "plt.plot(A.Test,A.Train,'ob')\n",
    "plt.plot(B.Test,B.Train,'or')\n",
    "plt.plot(C.Test,C.Train,'og')\n",
    "plt.plot([0.4,0.90],[0.4,0.90],'--b')\n",
    "plt.fill_between([0.4,0.90],[0.35,0.85],[0.45,0.95],color='blue',alpha=0.1, label=\"_nolegend_\")\n",
    "plt.plot(A.Test[np.argmax(A.Test)],A.Train[np.argmax(A.Test)],'bo',markersize=13,mec=\"black\")\n",
    "plt.ylim([0.60,0.90])\n",
    "plt.xlim([0.63,0.80])\n",
    "plt.xlabel(\"Accuracy validation set\")\n",
    "plt.ylabel(\"Accuracy training set\")\n",
    "plt.legend([\"SVM\",\"Logistic\",\"ExtraTrees\",\"Unity line\",\"Largest Accuracy (SVM)\"], loc=\"lower right\")"
   ]
  },
  {
   "cell_type": "markdown",
   "id": "e6f38d79-b74a-49c7-b75a-cc9445eeb700",
   "metadata": {},
   "source": [
    ".\n",
    "\n",
    "All the ExtraTrees models are overfittig the data (outside the shaded blue region).\n",
    "\n",
    "The SVM model with the largest accuracy is slightly overfitting the data (at the border of the shaded blue region).\n",
    "\n",
    "Tet's try to explore further its hyperparameters."
   ]
  },
  {
   "cell_type": "code",
   "execution_count": 26,
   "id": "d0a87f6a-262b-4ebc-993d-e23ff6a64634",
   "metadata": {},
   "outputs": [
    {
     "name": "stdout",
     "output_type": "stream",
     "text": [
      "\n",
      "\n",
      "The best SVM model is:  {'C': 0.30000000000000004, 'kernel': 'linear', 'probability': True, 'random_state': 0}\n",
      "\n",
      "The best SVM Accuracy is:  0.7742857142857144\n"
     ]
    }
   ],
   "source": [
    "#Hyperameters grid\n",
    "Params_svm = {\"C\":np.arange(0.0,10,0.1), \"kernel\":[\"linear\",\"rbf\"], \"probability\":[True],\"random_state\": [0]}\n",
    "\n",
    "#Grid search with a 5-fold cross-validation method\\\n",
    "CV = KFold(n_splits=5, random_state = 0, shuffle=True)\n",
    "Grid_svm22 = GridSearchCV(Model_svm, cv = CV, param_grid = Params_svm, scoring = \"accuracy\", n_jobs = -1, return_train_score=True)\n",
    "Grid_svm222 = Grid_svm22.fit(X_train_t, y_train_t)\n",
    "\n",
    "print(\"\\n\\nThe best SVM model is: \",Grid_svm222.best_params_)\n",
    "print(\"\\nThe best SVM Accuracy is: \",Grid_svm222.best_score_)"
   ]
  },
  {
   "cell_type": "markdown",
   "id": "4a0ec63b-ca47-4655-aaa3-b00881a6871a",
   "metadata": {},
   "source": [
    ".\n",
    "\n",
    "The new accuracy is slightly better than before\n",
    "\n",
    "Let's take a look at the training vs. validation accuracy plot."
   ]
  },
  {
   "cell_type": "code",
   "execution_count": 27,
   "id": "87c14eea-df11-4fab-857b-35e706c398d9",
   "metadata": {},
   "outputs": [
    {
     "data": {
      "text/plain": [
       "<matplotlib.legend.Legend at 0x7f2f560ef710>"
      ]
     },
     "execution_count": 27,
     "metadata": {},
     "output_type": "execute_result"
    },
    {
     "data": {
      "image/png": "[encoded data removed]",
      "text/plain": [
       "<Figure size 432x288 with 1 Axes>"
      ]
     },
     "metadata": {
      "needs_background": "light"
     },
     "output_type": "display_data"
    }
   ],
   "source": [
    "#Training vs. Validation accuracy\n",
    "A = pd.concat([pd.Series(Grid_svm2.cv_results_[\"mean_test_score\"]),pd.Series(Grid_svm2.cv_results_[\"mean_train_score\"])],axis=1)\n",
    "B = pd.concat([pd.Series(Grid_svm222.cv_results_[\"mean_test_score\"]),pd.Series(Grid_svm222.cv_results_[\"mean_train_score\"])],axis=1)\n",
    "A.columns=[\"Test\",\"Train\"]\n",
    "B.columns=[\"Test\",\"Train\"]\n",
    "A.sort_values(\"Test\")\n",
    "B.sort_values(\"Test\")\n",
    "plt.plot(B.Test,B.Train,'or')\n",
    "plt.plot(A.Test,A.Train,'ob')\n",
    "plt.plot([0.4,0.90],[0.4,0.90],'--b')\n",
    "plt.fill_between([0.4,0.90],[0.35,0.85],[0.45,0.95],color='blue',alpha=0.1, label=\"_nolegend_\")\n",
    "plt.plot(B.Test[np.argmax(B.Test)],B.Train[np.argmax(B.Test)],'ro',markersize=13,mec=\"black\")\n",
    "plt.ylim([0.65,0.95])\n",
    "plt.xlim([0.7,0.82])\n",
    "plt.xlabel(\"Accuracy test set\")\n",
    "plt.ylabel(\"Accuracy training set\")\n",
    "plt.legend([\"SVM (new)\",\"SVM (old)\",\"Unity line\",\"Largest Accuracy (SVM - new)\"], loc=\"lower right\")"
   ]
  },
  {
   "cell_type": "markdown",
   "id": "8dcc8e5f-884d-4fb1-8f42-b4c3e2455e48",
   "metadata": {},
   "source": [
    ".\n",
    "\n",
    "Overfitting is reduced (the model with the maximum accuracy is inside the shaded region)\n",
    "\n",
    "Let's use this model for predictions."
   ]
  },
  {
   "cell_type": "code",
   "execution_count": 28,
   "id": "2d642dd9-f90d-4f0c-87fc-1edb51aa2411",
   "metadata": {},
   "outputs": [
    {
     "name": "stdout",
     "output_type": "stream",
     "text": [
      "The Accuracy on the Training set is:  80.86% (AUC: 0.80)\n",
      "The Accuracy on the Test set is:  77.27% (AUC: 0.80)\n",
      "\n"
     ]
    },
    {
     "data": {
      "text/plain": [
       "<matplotlib.legend.Legend at 0x7f2f563ef4a8>"
      ]
     },
     "execution_count": 28,
     "metadata": {},
     "output_type": "execute_result"
    },
    {
     "data": {
      "image/png": "[encoded data removed]",
      "text/plain": [
       "<Figure size 432x288 with 1 Axes>"
      ]
     },
     "metadata": {
      "needs_background": "light"
     },
     "output_type": "display_data"
    }
   ],
   "source": [
    "#Accuracy on training and test set\n",
    "Model1 = svm.SVC(**Grid_svm222.best_params_)\n",
    "Model11 = Model1.fit(X_train_t,y_train_t)\n",
    "\n",
    "Final_accuracy_tr = (Model11.predict(X_train_t) == y_train_t).sum()/len(y_train_t)\n",
    "Final_accuracy_te = (Model11.predict(X_test_t) == y_test_t).sum()/len(y_test_t)\n",
    "print(\"The Accuracy on the Training set is:  {:.2f}% (AUC: {:.2f})\".format(100*Final_accuracy_tr,roc_auc_score(y_train_t,Model11.predict(X_train_t))))\n",
    "print(\"The Accuracy on the Test set is:  {:.2f}% (AUC: {:.2f})\\n\".format(100*Final_accuracy_te,roc_auc_score(y_train_t,Model11.predict(X_train_t))))\n",
    "\n",
    "#ROC curve\n",
    "fpr1, tpr1, thresholds1 = roc_curve(y_train_t,Model11.predict_proba(X_train_t)[:,1])\n",
    "fpr2, tpr2, thresholds2 = roc_curve(y_test_t,Model11.predict_proba(X_test_t)[:,1])\n",
    "plt.plot(fpr1, tpr1,'blue',lw=2)\n",
    "plt.plot(fpr2, tpr2,'red',lw=2)\n",
    "plt.plot([0,1],[0,1],'--b')\n",
    "plt.xlabel(\"False positive rate\")\n",
    "plt.ylabel(\"True positive rate\")\n",
    "plt.legend([\"Training set\",\"Test set\"])"
   ]
  },
  {
   "cell_type": "markdown",
   "id": "4fbe2d55-6ff3-43cf-9ad9-9356127f3d9d",
   "metadata": {},
   "source": [
    ".\n",
    "\n",
    "The two accuracy scores are similar."
   ]
  },
  {
   "cell_type": "code",
   "execution_count": 29,
   "id": "33a00271-e020-4f3b-a478-7f60a13c46bb",
   "metadata": {},
   "outputs": [
    {
     "name": "stdout",
     "output_type": "stream",
     "text": [
      "Precision: 0.73\n",
      "Recall: 0.94\n",
      "F1-score: 0.82\n",
      "\n"
     ]
    },
    {
     "data": {
      "text/html": [
       "<div>\n",
       "<style scoped>\n",
       "    .dataframe tbody tr th:only-of-type {\n",
       "        vertical-align: middle;\n",
       "    }\n",
       "\n",
       "    .dataframe tbody tr th {\n",
       "        vertical-align: top;\n",
       "    }\n",
       "\n",
       "    .dataframe thead th {\n",
       "        text-align: right;\n",
       "    }\n",
       "</style>\n",
       "<table border=\"1\" class=\"dataframe\">\n",
       "  <thead>\n",
       "    <tr style=\"text-align: right;\">\n",
       "      <th></th>\n",
       "      <th>Predicted_Abnormal</th>\n",
       "      <th>Predicted_Normal</th>\n",
       "    </tr>\n",
       "  </thead>\n",
       "  <tbody>\n",
       "    <tr>\n",
       "      <th>Actual_Abnormal</th>\n",
       "      <td>23</td>\n",
       "      <td>17</td>\n",
       "    </tr>\n",
       "    <tr>\n",
       "      <th>Actual_Normal</th>\n",
       "      <td>3</td>\n",
       "      <td>45</td>\n",
       "    </tr>\n",
       "  </tbody>\n",
       "</table>\n",
       "</div>"
      ],
      "text/plain": [
       "                 Predicted_Abnormal  Predicted_Normal\n",
       "Actual_Abnormal                  23                17\n",
       "Actual_Normal                     3                45"
      ]
     },
     "execution_count": 29,
     "metadata": {},
     "output_type": "execute_result"
    }
   ],
   "source": [
    "#Precision, Recall, F1-score, Confusion matrix\n",
    "Conf_matrix = confusion_matrix(y_test_t, Model1.predict(X_test_t))\n",
    "print(\"Precision: {:.2f}\".format(precision_score(y_test_t, Model1.predict(X_test_t))))\n",
    "print(\"Recall: {:.2f}\".format(recall_score(y_test_t, Model1.predict(X_test_t))))\n",
    "print(\"F1-score: {:.2f}\\n\".format(f1_score(y_test_t, Model1.predict(X_test_t))))\n",
    "pd.DataFrame(data=Conf_matrix, columns=[\"Predicted_Abnormal\",\"Predicted_Normal\"], index=[\"Actual_Abnormal\",\"Actual_Normal\"])"
   ]
  },
  {
   "cell_type": "markdown",
   "id": "a83fef60-fb2b-49b3-83bc-4360e8439e09",
   "metadata": {
    "tags": []
   },
   "source": [
    ".\n",
    "\n",
    ".\n",
    "\n",
    "## **6. Model finalization**\n",
    "\n",
    "Now, it is possible to *finalize* the model by using the whole dataset."
   ]
  },
  {
   "cell_type": "code",
   "execution_count": 30,
   "id": "9e8f6969-045a-43cd-85d5-789fffa80981",
   "metadata": {},
   "outputs": [
    {
     "name": "stdout",
     "output_type": "stream",
     "text": [
      "The final Accuracy on the whole Training set is:  82.19% (AUC: 0.79)\n",
      "\n",
      "\n",
      "Precision: 0.78\n",
      "Recall: 0.93\n",
      "F1-score: 0.85\n",
      "\n"
     ]
    },
    {
     "data": {
      "text/html": [
       "<div>\n",
       "<style scoped>\n",
       "    .dataframe tbody tr th:only-of-type {\n",
       "        vertical-align: middle;\n",
       "    }\n",
       "\n",
       "    .dataframe tbody tr th {\n",
       "        vertical-align: top;\n",
       "    }\n",
       "\n",
       "    .dataframe thead th {\n",
       "        text-align: right;\n",
       "    }\n",
       "</style>\n",
       "<table border=\"1\" class=\"dataframe\">\n",
       "  <thead>\n",
       "    <tr style=\"text-align: right;\">\n",
       "      <th></th>\n",
       "      <th>Predicted_Abnormal</th>\n",
       "      <th>Predicted_Normal</th>\n",
       "    </tr>\n",
       "  </thead>\n",
       "  <tbody>\n",
       "    <tr>\n",
       "      <th>Actual_Abnormal</th>\n",
       "      <td>138</td>\n",
       "      <td>61</td>\n",
       "    </tr>\n",
       "    <tr>\n",
       "      <th>Actual_Normal</th>\n",
       "      <td>17</td>\n",
       "      <td>222</td>\n",
       "    </tr>\n",
       "  </tbody>\n",
       "</table>\n",
       "</div>"
      ],
      "text/plain": [
       "                 Predicted_Abnormal  Predicted_Normal\n",
       "Actual_Abnormal                 138                61\n",
       "Actual_Normal                    17               222"
      ]
     },
     "execution_count": 30,
     "metadata": {},
     "output_type": "execute_result"
    }
   ],
   "source": [
    "#Final training on the whole dataset\n",
    "Model1 = svm.SVC(**Grid_svm222.best_params_)\n",
    "Best_model = Model1.fit(X_train_pca, y_train)\n",
    "\n",
    "#Final accuracy on the whole dataset\n",
    "Final_accuracy = (Best_model.predict(X_train_pca) == y_train).sum()/len(y_train)\n",
    "print(\"The final Accuracy on the whole Training set is:  {:.2f}% (AUC: {:.2f})\\n\".format(100*Final_accuracy,roc_auc_score(y_train,Model11.predict(X_train_pca))))\n",
    "\n",
    "#Precision, Recall, F1-score, Confusion matrix\n",
    "Conf_matrix = confusion_matrix(y_train, Best_model.predict(X_train_pca))\n",
    "print(\"\\nPrecision: {:.2f}\".format(precision_score(y_train, Best_model.predict(X_train_pca))))\n",
    "print(\"Recall: {:.2f}\".format(recall_score(y_train, Best_model.predict(X_train_pca))))\n",
    "print(\"F1-score: {:.2f}\\n\".format(f1_score(y_train, Best_model.predict(X_train_pca))))\n",
    "pd.DataFrame(data=Conf_matrix, columns=[\"Predicted_Abnormal\",\"Predicted_Normal\"], index=[\"Actual_Abnormal\",\"Actual_Normal\"])"
   ]
  },
  {
   "cell_type": "markdown",
   "id": "3c0dc900-033e-4cfa-b9b5-6f3307134881",
   "metadata": {},
   "source": [
    ".\n",
    "\n",
    ".\n",
    "\n",
    "## **7. Test on unseen data**\n",
    "\n",
    "Now, it is possible to use the model on the *unseen data*, randomly chosen at the beginning of this notebook.\n",
    "\n",
    "First, data must be transformed before the model application."
   ]
  },
  {
   "cell_type": "code",
   "execution_count": 31,
   "id": "3a58182d-94a5-4424-bd35-448f9ffe965d",
   "metadata": {},
   "outputs": [],
   "source": [
    "#Data transformation\n",
    "X_test, y_test = Data_transformation(X_test,y_test)"
   ]
  },
  {
   "cell_type": "code",
   "execution_count": 32,
   "id": "5e86555d-982f-415a-91e3-ce21d253c149",
   "metadata": {
    "tags": []
   },
   "outputs": [
    {
     "name": "stdout",
     "output_type": "stream",
     "text": [
      "The accuracy on the unseen Test set is:  78.57%\n",
      "\n"
     ]
    },
    {
     "data": {
      "text/html": [
       "<div>\n",
       "<style scoped>\n",
       "    .dataframe tbody tr th:only-of-type {\n",
       "        vertical-align: middle;\n",
       "    }\n",
       "\n",
       "    .dataframe tbody tr th {\n",
       "        vertical-align: top;\n",
       "    }\n",
       "\n",
       "    .dataframe thead th {\n",
       "        text-align: right;\n",
       "    }\n",
       "</style>\n",
       "<table border=\"1\" class=\"dataframe\">\n",
       "  <thead>\n",
       "    <tr style=\"text-align: right;\">\n",
       "      <th></th>\n",
       "      <th>Predicted_Abnormal</th>\n",
       "      <th>Predicted_Normal</th>\n",
       "    </tr>\n",
       "  </thead>\n",
       "  <tbody>\n",
       "    <tr>\n",
       "      <th>Actual_Abnormal</th>\n",
       "      <td>6</td>\n",
       "      <td>2</td>\n",
       "    </tr>\n",
       "    <tr>\n",
       "      <th>Actual_Normal</th>\n",
       "      <td>1</td>\n",
       "      <td>5</td>\n",
       "    </tr>\n",
       "  </tbody>\n",
       "</table>\n",
       "</div>"
      ],
      "text/plain": [
       "                 Predicted_Abnormal  Predicted_Normal\n",
       "Actual_Abnormal                   6                 2\n",
       "Actual_Normal                     1                 5"
      ]
     },
     "execution_count": 32,
     "metadata": {},
     "output_type": "execute_result"
    }
   ],
   "source": [
    "#Accuracy on the Test set\n",
    "Final_accuracy_test = (Best_model.predict(X_test) == y_test).sum()/len(y_test)\n",
    "print(\"The accuracy on the unseen Test set is:  {:.2f}%\\n\".format(100*Final_accuracy_test))\n",
    "\n",
    "#Confusion matrix\n",
    "Conf_matrix = confusion_matrix(y_test, Best_model.predict(X_test))\n",
    "pd.DataFrame(data=Conf_matrix, columns=[\"Predicted_Abnormal\",\"Predicted_Normal\"], index=[\"Actual_Abnormal\",\"Actual_Normal\"])"
   ]
  },
  {
   "cell_type": "markdown",
   "id": "8e799ae3-973b-41de-a79d-5d9e95cfa0ad",
   "metadata": {},
   "source": [
    ".\n",
    "\n",
    "Let's use all the data to finalize the model further (Training + Unseen data)"
   ]
  },
  {
   "cell_type": "code",
   "execution_count": 33,
   "id": "e0358643-856b-4f3f-b895-41459f36c904",
   "metadata": {},
   "outputs": [
    {
     "name": "stdout",
     "output_type": "stream",
     "text": [
      "The final Accuracy on the whole Training set is:  82.08% (AUC: 0.88)\n",
      "\n",
      "Precision: 0.78\n",
      "Recall: 0.93\n",
      "F1-score: 0.85\n",
      "\n"
     ]
    },
    {
     "data": {
      "text/html": [
       "<div>\n",
       "<style scoped>\n",
       "    .dataframe tbody tr th:only-of-type {\n",
       "        vertical-align: middle;\n",
       "    }\n",
       "\n",
       "    .dataframe tbody tr th {\n",
       "        vertical-align: top;\n",
       "    }\n",
       "\n",
       "    .dataframe thead th {\n",
       "        text-align: right;\n",
       "    }\n",
       "</style>\n",
       "<table border=\"1\" class=\"dataframe\">\n",
       "  <thead>\n",
       "    <tr style=\"text-align: right;\">\n",
       "      <th></th>\n",
       "      <th>Predicted_Dead</th>\n",
       "      <th>Predicted_Alive</th>\n",
       "    </tr>\n",
       "  </thead>\n",
       "  <tbody>\n",
       "    <tr>\n",
       "      <th>Actual_Dead</th>\n",
       "      <td>143</td>\n",
       "      <td>64</td>\n",
       "    </tr>\n",
       "    <tr>\n",
       "      <th>Actual_Alive</th>\n",
       "      <td>17</td>\n",
       "      <td>228</td>\n",
       "    </tr>\n",
       "  </tbody>\n",
       "</table>\n",
       "</div>"
      ],
      "text/plain": [
       "              Predicted_Dead  Predicted_Alive\n",
       "Actual_Dead              143               64\n",
       "Actual_Alive              17              228"
      ]
     },
     "execution_count": 33,
     "metadata": {},
     "output_type": "execute_result"
    }
   ],
   "source": [
    "#Data transformation\n",
    "X, y = Data_transformation(Data.drop([\"Class\"],axis=1),Data[\"Class\"])\n",
    "\n",
    "#Final training on the whole dataset\n",
    "Model_svm = svm.SVC(**Grid_svm222.best_params_)\n",
    "Best_model = Model_svm.fit(X, y)\n",
    "\n",
    "#Final accuracy on the whole dataset\n",
    "Final_accuracy = (Best_model.predict(X) == y).sum()/len(y)\n",
    "print(\"The final Accuracy on the whole Training set is:  {:.2f}% (AUC: {:.2f})\\n\".format(100*Final_accuracy,roc_auc_score(y,Model11.predict_proba(X)[:,1])))\n",
    "\n",
    "#Precision, Recall, F1-score, Confusion matrix\n",
    "Conf_matrix = confusion_matrix(y, Best_model.predict(X))\n",
    "print(\"Precision: {:.2f}\".format(precision_score(y, Best_model.predict(X))))\n",
    "print(\"Recall: {:.2f}\".format(recall_score(y, Best_model.predict(X))))\n",
    "print(\"F1-score: {:.2f}\\n\".format(f1_score(y, Best_model.predict(X))))\n",
    "pd.DataFrame(data=Conf_matrix, columns=[\"Predicted_Dead\",\"Predicted_Alive\"], index=[\"Actual_Dead\",\"Actual_Alive\"])"
   ]
  },
  {
   "cell_type": "markdown",
   "id": "668f6746-bc2e-4cbb-b681-18f595d295e1",
   "metadata": {},
   "source": [
    ".\n",
    "\n",
    "Final thoughts\n",
    "\n",
    "The final accuracies (i.e., training, test, unseen, total) are very similar to each other meaning that the model does not overfit the data drastically.\n",
    "\n",
    "Clearly, a larger dataset may lead to more precise model even though the final results obtained in this notebook are still fairly good."
   ]
  }
 ],
 "metadata": {
  "kernelspec": {
   "display_name": "Python 3 (ipykernel)",
   "language": "python",
   "name": "python3"
  },
  "language_info": {
   "codemirror_mode": {
    "name": "ipython",
    "version": 3
   },
   "file_extension": ".py",
   "mimetype": "text/x-python",
   "name": "python",
   "nbconvert_exporter": "python",
   "pygments_lexer": "ipython3",
   "version": "3.7.3"
  }
 },
 "nbformat": 4,
 "nbformat_minor": 5
}
